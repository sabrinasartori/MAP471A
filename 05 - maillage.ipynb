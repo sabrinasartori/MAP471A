{
 "cells": [
  {
   "cell_type": "markdown",
   "metadata": {},
   "source": [
    "<br/>\n",
    "  <FONT size =\"3pt\"> MODAL MAP472A : Problem solving en math app </FONT>   \n",
    "  \n",
    "---\n",
    "---\n",
    "<FONT size =\"5pt\"> TP déterministe 3 : <center><b>Génération de maillage</b>  </center></FONT> \n",
    "\n",
    "---\n",
    "---\n",
    "<br /> "
   ]
  },
  {
   "cell_type": "code",
   "execution_count": 41,
   "metadata": {},
   "outputs": [
    {
     "name": "stderr",
     "output_type": "stream",
     "text": [
      "c:\\Users\\sabri\\anaconda3\\lib\\site-packages\\pandas\\core\\computation\\expressions.py:20: UserWarning: Pandas requires version '2.7.3' or newer of 'numexpr' (version '2.7.1' currently installed).\n",
      "  from pandas.core.computation.check import NUMEXPR_INSTALLED\n"
     ]
    }
   ],
   "source": [
    "# importation de fonctions et de librairies\n",
    "import numpy as np\n",
    "import pandas as pd\n",
    "from scipy.spatial import Delaunay\n",
    "import matplotlib.pyplot as plt"
   ]
  },
  {
   "cell_type": "markdown",
   "metadata": {},
   "source": [
    "De nombreux algorithmes de simulation (tels que la méthode des éléments finis) nécessitent l'utilisation d'un maillage en triangles du domaine de calcul. Le but de ce TP est de construire des maillages aussi réguliers que possible de domaines (presque) quelconques. On commence par introduire la définition d'un maillage.\n",
    "\n",
    "\n",
    "***\n",
    "**Définition: Maillage d'un ouvert connexe polyhédrique $\\Omega \\subset \\mathbb R^2$**\n",
    "\n",
    "Un maillage triangulaire, ou une triangulation de $\\Omega$, est un ensemble de $n$ triangles $(K_i)_{i\\in 1 \\leq i \\leq N}$ qui vérifient\n",
    "* $K_i \\subset Ω$ et $Ω = \\bigcup\\limits_{1 \\leq i \\leq N} K_i$,\n",
    "* l’intersection $K_i \\cap K_j$ de deux triangles est soit vide, soit réduite à un sommet commun, soit à une arête commune entière.\n",
    "\n",
    "Les sommets ou noeuds du maillage sont les sommets des triangles $K_i$ qui le composent. \n",
    "***\n",
    "\n",
    "On se donnera dans toute la suite une fonction $f(x,y)$ pour laquelle le domaine $\\Omega$ à mailler est \n",
    "\n",
    "$$ \\Omega = f^{-1}(\\mathbb{R}^-).$$"
   ]
  },
  {
   "cell_type": "markdown",
   "metadata": {},
   "source": [
    "# Génération de maillage\n",
    "Dans cette partie, on écrit le mailleur à proprement parler.\n",
    "\n",
    "## Nuage de points dans la boîte englobante\n",
    "\n",
    "Une boîte englobante de $\\Omega$ est un rectangle $B = ]x_0,x_1[ \\times ]y_0, y_1 [$ contenant $\\Omega$. On suppose qu'une boîte englobante de notre domaine est donnée. On cherche d'abord à construire un maillage en triangles le plus régulier possible de la boîte englobante $\\mathcal{B}$. On choisit un maillage composé de triangles équilatéraux de taille $h$ (pas du maillage). \n",
    "\n",
    " Construire une fonction prenant en argument les coordonnées de la boîte englobante et le pas du maillage $h$ et qui renvoie une matrice de coordonnées $N\\times 2$ des points d'un maillage triangulaire de $\\mathcal{B}$, ou d'une boîte englobante de $\\mathcal{B}$ si les dimensions de $\\mathcal{B}$ ne sont pas proportionnelles à la hauteur ou la largeur d'un triangle. Les points extérieurs à $\\mathcal{B}$ seront éliminés dans une prochaine étape.\n",
    " On remarquera que les points ne sont pas espacés de la même manière dans la direction $x$ et $y$ (typiquement ils\n",
    "diffèrent d'un coefficient $\\sqrt{3}/2$)."
   ]
  },
  {
   "cell_type": "code",
   "execution_count": 3,
   "metadata": {},
   "outputs": [],
   "source": [
    "def maillage_initial(xB, yB, h):\n",
    "    \"\"\"\n",
    "    Créé les points du maillage initiale\n",
    "    ----------   \n",
    "    Paramètres :\n",
    "    xB = ]x0, x1[, yB = ]y0, y1[ : coordonnées de la boite englobante\n",
    "    h      : pas de maillage\n",
    "    \n",
    "    Retourne :\n",
    "    -vecteur contenant les positions des points du maillage\n",
    "    \"\"\"\n",
    "    M = []\n",
    "    Xm = []\n",
    "    Ym = []\n",
    "    \n",
    "    for x in np.arange(xB[0],xB[1],h):\n",
    "        for j, y in enumerate(np.arange(yB[0],yB[1],h*np.sqrt(3)/2)):\n",
    "            if j%2 == 0:\n",
    "                Xm.append(x)\n",
    "                Ym.append(y)\n",
    "                M.append([x,y])\n",
    "            else:\n",
    "                Xm.append(x+h/2)\n",
    "                Ym.append(y)\n",
    "                M.append([x+h/2, y])\n",
    "    return Xm, Ym, M"
   ]
  },
  {
   "cell_type": "code",
   "execution_count": 4,
   "metadata": {
    "scrolled": true
   },
   "outputs": [],
   "source": [
    "# cas test simple\n",
    "X, Y, M = maillage_initial([0,3],[0,3],1)"
   ]
  },
  {
   "cell_type": "code",
   "execution_count": 5,
   "metadata": {},
   "outputs": [
    {
     "data": {
      "text/plain": [
       "[[0, 0.0],\n",
       " [0.5, 0.8660254037844386],\n",
       " [0, 1.7320508075688772],\n",
       " [0.5, 2.598076211353316],\n",
       " [1, 0.0],\n",
       " [1.5, 0.8660254037844386],\n",
       " [1, 1.7320508075688772],\n",
       " [1.5, 2.598076211353316],\n",
       " [2, 0.0],\n",
       " [2.5, 0.8660254037844386],\n",
       " [2, 1.7320508075688772],\n",
       " [2.5, 2.598076211353316]]"
      ]
     },
     "execution_count": 5,
     "metadata": {},
     "output_type": "execute_result"
    }
   ],
   "source": [
    "M"
   ]
  },
  {
   "cell_type": "code",
   "execution_count": 6,
   "metadata": {},
   "outputs": [
    {
     "data": {
      "text/plain": [
       "<matplotlib.collections.PathCollection at 0x20a3146b880>"
      ]
     },
     "execution_count": 6,
     "metadata": {},
     "output_type": "execute_result"
    },
    {
     "data": {
      "image/png": "[encoded data removed]",
      "text/plain": [
       "<Figure size 432x288 with 1 Axes>"
      ]
     },
     "metadata": {
      "needs_background": "light"
     },
     "output_type": "display_data"
    }
   ],
   "source": [
    "plt.scatter(X,Y)"
   ]
  },
  {
   "cell_type": "code",
   "execution_count": 7,
   "metadata": {},
   "outputs": [],
   "source": [
    "# cas test \n",
    "X, Y, M = maillage_initial([0,10],[0,10],2.5)"
   ]
  },
  {
   "cell_type": "code",
   "execution_count": 8,
   "metadata": {},
   "outputs": [
    {
     "data": {
      "text/plain": [
       "<matplotlib.collections.PathCollection at 0x20a33555e20>"
      ]
     },
     "execution_count": 8,
     "metadata": {},
     "output_type": "execute_result"
    },
    {
     "data": {
      "image/png": "[encoded data removed]",
      "text/plain": [
       "<Figure size 432x288 with 1 Axes>"
      ]
     },
     "metadata": {
      "needs_background": "light"
     },
     "output_type": "display_data"
    }
   ],
   "source": [
    "plt.scatter(X,Y)"
   ]
  },
  {
   "cell_type": "markdown",
   "metadata": {},
   "source": [
    "## Triangulation de Delaunay et création d'un 1er maillage de $\\Omega$\n",
    "\n",
    "***\n",
    "**Définition**: Etant donné un nuage de points $\\mathcal S$ (c'est-à-dire un ensemble fini de points dans $\\mathbb R^2$), on note $\\Omega$ son enveloppe convexe. Une triangulation de $\\mathcal S$ est un maillage de $\\Omega$ dont les sommets sont les points de $\\mathcal S$.\n",
    "***\n",
    "\n",
    "***\n",
    "**Définition**: Etant donné un nuage de points, une triangulation de ce nuage de points est dite *de Delaunay* si les cercles circonscrits (ouverts) aux triangles ne contiennent aucun des points du nuage.\n",
    "***\n",
    "\n",
    "Les triangulations de Delaunay maximisent le plus petit angle de l'ensemble des angles des triangles, évitant ainsi les triangles *allongés*. On peut montrer (mais ce n'est pas le but du TP) que pour un nuage de points donné qui ne possède pas 4\n",
    "points cocycliques ni trois points alignés, il existe une unique triangulation de Delaunay possédant ces points\n",
    "comme sommets.\n",
    "\n",
    "1. Prendre un nuage de six points au hasard, générer sa triangulation de Delaunay et afficher le tout. On\n",
    "utilisera la commande *scipy.spatial.Delaunay*. "
   ]
  },
  {
   "cell_type": "code",
   "execution_count": 9,
   "metadata": {},
   "outputs": [],
   "source": [
    "# test simple de la fonction Delaunay et tracé d'une triangulation\n",
    "\n",
    "x1 = [0,4]\n",
    "y1 = [1,3]\n",
    "P = []\n",
    "for n in range(6):\n",
    "    x = np.random.rand()*(x1[1]-x1[0])+x1[0]\n",
    "    y = np.random.rand()*(y1[1]-y1[0])+y1[0]\n",
    "    P.append([x,y])"
   ]
  },
  {
   "cell_type": "code",
   "execution_count": 10,
   "metadata": {},
   "outputs": [
    {
     "data": {
      "text/plain": [
       "array([[3.68425018, 2.50713895],\n",
       "       [2.10808691, 2.81029776],\n",
       "       [1.58056067, 2.38966214],\n",
       "       [3.24285403, 2.41753001],\n",
       "       [0.92962382, 2.53810568],\n",
       "       [2.21231432, 1.8098353 ]])"
      ]
     },
     "execution_count": 10,
     "metadata": {},
     "output_type": "execute_result"
    }
   ],
   "source": [
    "P1 = np.array(P)\n",
    "P1"
   ]
  },
  {
   "cell_type": "code",
   "execution_count": 11,
   "metadata": {},
   "outputs": [
    {
     "data": {
      "image/png": "[encoded data removed]",
      "text/plain": [
       "<Figure size 432x288 with 1 Axes>"
      ]
     },
     "metadata": {
      "needs_background": "light"
     },
     "output_type": "display_data"
    }
   ],
   "source": [
    "tri1 = Delaunay(P1)\n",
    "\n",
    "plt.triplot(P1[:,0], P1[:,1], tri1.simplices)\n",
    "plt.plot(P1[:,0], P1[:,1], 'o')\n",
    "plt.show()"
   ]
  },
  {
   "cell_type": "markdown",
   "metadata": {},
   "source": [
    "2. Utiliser les points obtenus à la partie précedente pour créer un maillage de la boite englobante (ou d'un domaine un peu plus grand) :\n",
    "    * Construire des triangles avec ces points avec la commande *scipy.spatial.Delaunay*. \n",
    "    * Tracer le maillage obtenu grâce à la commande *matplotlib.pyplot.triplot*."
   ]
  },
  {
   "cell_type": "code",
   "execution_count": 12,
   "metadata": {
    "scrolled": false
   },
   "outputs": [
    {
     "data": {
      "image/png": "[encoded data removed]",
      "text/plain": [
       "<Figure size 432x288 with 1 Axes>"
      ]
     },
     "metadata": {
      "needs_background": "light"
     },
     "output_type": "display_data"
    }
   ],
   "source": [
    "# Cas test : boite englobante\n",
    "\n",
    "M2 = np.array(M)\n",
    "tri_2 = Delaunay(M)\n",
    "\n",
    "plt.triplot(M2[:,0], M2[:,1], tri_2.simplices)\n",
    "plt.plot(M2[:,0], M2[:,1], 'o')\n",
    "plt.show()"
   ]
  },
  {
   "cell_type": "markdown",
   "metadata": {},
   "source": [
    "3. Parmi les points précédents, ne garder que ceux qui correspondent à $f(X) < 0$. On propose ci-dessous une fonction $f$ (sous le nom *f_domaine*) que vous pouvez changer."
   ]
  },
  {
   "cell_type": "code",
   "execution_count": 13,
   "metadata": {},
   "outputs": [],
   "source": [
    "xstar = [0.,1.]\n",
    "ystar = [0.,4.]\n",
    "\n",
    "def f_domaine(x): \n",
    "    return x[0]**2 + x[1]**2 - 2 #cercle\n",
    "    #return 1 -(0 < x[0] and x[0] < 1 and  0 < x[1] and x[1] < 1) #carré\n",
    "\n",
    "# Cas test : boite englobante sans les points en dehors de Omega\n",
    "M3 = []\n",
    "X, Y, M = maillage_initial(xstar,ystar,0.25)\n",
    "for p in M:\n",
    "    if f_domaine(p)<0:\n",
    "        M3.append(p)\n",
    "M3 = np.array(M3)"
   ]
  },
  {
   "cell_type": "code",
   "execution_count": 14,
   "metadata": {},
   "outputs": [
    {
     "data": {
      "text/plain": [
       "array([[0.        , 0.        ],\n",
       "       [0.125     , 0.21650635],\n",
       "       [0.        , 0.4330127 ],\n",
       "       [0.125     , 0.64951905],\n",
       "       [0.        , 0.8660254 ],\n",
       "       [0.125     , 1.08253175],\n",
       "       [0.        , 1.29903811],\n",
       "       [0.25      , 0.        ],\n",
       "       [0.375     , 0.21650635],\n",
       "       [0.25      , 0.4330127 ],\n",
       "       [0.375     , 0.64951905],\n",
       "       [0.25      , 0.8660254 ],\n",
       "       [0.375     , 1.08253175],\n",
       "       [0.25      , 1.29903811],\n",
       "       [0.5       , 0.        ],\n",
       "       [0.625     , 0.21650635],\n",
       "       [0.5       , 0.4330127 ],\n",
       "       [0.625     , 0.64951905],\n",
       "       [0.5       , 0.8660254 ],\n",
       "       [0.625     , 1.08253175],\n",
       "       [0.5       , 1.29903811],\n",
       "       [0.75      , 0.        ],\n",
       "       [0.875     , 0.21650635],\n",
       "       [0.75      , 0.4330127 ],\n",
       "       [0.875     , 0.64951905],\n",
       "       [0.75      , 0.8660254 ],\n",
       "       [0.875     , 1.08253175]])"
      ]
     },
     "execution_count": 14,
     "metadata": {},
     "output_type": "execute_result"
    }
   ],
   "source": [
    "M3"
   ]
  },
  {
   "cell_type": "code",
   "execution_count": 15,
   "metadata": {},
   "outputs": [
    {
     "data": {
      "image/png": "[encoded data removed]",
      "text/plain": [
       "<Figure size 432x288 with 1 Axes>"
      ]
     },
     "metadata": {
      "needs_background": "light"
     },
     "output_type": "display_data"
    }
   ],
   "source": [
    "tri_3 = Delaunay(M3)\n",
    "\n",
    "plt.triplot(M3[:,0], M3[:,1], tri_3.simplices)\n",
    "plt.plot(M3[:,0], M3[:,1], 'o')\n",
    "plt.show()"
   ]
  },
  {
   "cell_type": "markdown",
   "metadata": {},
   "source": [
    "# Modification du maillage\n",
    "Les arrêtes du maillage précedemment construit ne coïncident pas en général avec le bord du domaine $\\Omega$. C'est ce que nous proposons d'adapter à présent.\n",
    "L'idée que nous allons utiliser est d'assimiler le maillage à un assemblage de ressorts. L'astuce consiste\n",
    "à calculer une longueur idéale pour les ressorts et d'essayer d'agrandir ceux qui sont trop courts afin de remplir le domaine avec les triangles les plus réguliers possibles.\n",
    "\n",
    "## Les arêtes du maillage\n",
    "\n",
    "1. Fabriquer un tableau qui contient pour chaque arête l'indice de ses deux sommets. On se servira du tableau des triangles (*Delaunay(points).simplices*) et on en extraira les arêtes. Attention, il faudra sans doute supprimer les doublons.\n",
    "\n",
    "2. Construire un tableau des vecteurs directeurs normalisés des arêtes, orientés du sommet 1 au sommet 2 de chacune des arêtes, ainsi que le tableau des longueurs $L[i]$ de ces vecteurs.\n",
    "\n",
    "3. Calculer la longueur idéale $L_0 = 1.2 \\sqrt{\\sum\\limits_i L[i]^2 /N}$, le paramètre $1.2$ servira à faire \"augmenter\" les longueurs des arêtes.\n",
    "\n",
    "4. Construire un tableau de \"forces\" orientées le long des arêtes et de module $max(L_0 − L[i], 0)$ (on ne bougera pas les longueurs dejà plus grandes que $L_0$)."
   ]
  },
  {
   "cell_type": "code",
   "execution_count": 60,
   "metadata": {},
   "outputs": [
    {
     "data": {
      "text/plain": [
       "array([[0.        , 0.        ],\n",
       "       [0.125     , 0.21650635],\n",
       "       [0.        , 0.4330127 ],\n",
       "       [0.125     , 0.64951905],\n",
       "       [0.        , 0.8660254 ],\n",
       "       [0.125     , 1.08253175],\n",
       "       [0.        , 1.29903811],\n",
       "       [0.25      , 0.        ],\n",
       "       [0.375     , 0.21650635],\n",
       "       [0.25      , 0.4330127 ],\n",
       "       [0.375     , 0.64951905],\n",
       "       [0.25      , 0.8660254 ],\n",
       "       [0.375     , 1.08253175],\n",
       "       [0.25      , 1.29903811],\n",
       "       [0.5       , 0.        ],\n",
       "       [0.625     , 0.21650635],\n",
       "       [0.5       , 0.4330127 ],\n",
       "       [0.625     , 0.64951905],\n",
       "       [0.5       , 0.8660254 ],\n",
       "       [0.625     , 1.08253175],\n",
       "       [0.5       , 1.29903811],\n",
       "       [0.75      , 0.        ],\n",
       "       [0.875     , 0.21650635],\n",
       "       [0.75      , 0.4330127 ],\n",
       "       [0.875     , 0.64951905],\n",
       "       [0.75      , 0.8660254 ],\n",
       "       [0.875     , 1.08253175]])"
      ]
     },
     "execution_count": 60,
     "metadata": {},
     "output_type": "execute_result"
    }
   ],
   "source": [
    "M3"
   ]
  },
  {
   "cell_type": "code",
   "execution_count": 117,
   "metadata": {},
   "outputs": [],
   "source": [
    "# Construction des tableaux d'arêtes, de vecteurs directeurs, de forces...\n",
    "\n",
    "def get_lines(points):\n",
    "    L = []\n",
    "    s = set()\n",
    "    tri = Delaunay(points=points)\n",
    "    for i in tri.simplices:\n",
    "        l1 = tuple((tuple(points[i[0]]), tuple(points[i[1]])))\n",
    "        l1_reordered = tuple((tuple(points[i[1]]), tuple(points[i[0]])))\n",
    "        if l1 not in s and l1_reordered not in s:\n",
    "            L.append(l1)\n",
    "            s.add(l1)\n",
    "        l2 = tuple((tuple(points[i[0]]), tuple(points[i[2]])))\n",
    "        l2_reordered = tuple((tuple(points[i[2]]), tuple(points[i[0]])))\n",
    "        if l2 not in s and l2_reordered not in s:\n",
    "            L.append(l2)\n",
    "            s.add(l2)\n",
    "        l3 = tuple((tuple(points[i[1]]), tuple(points[i[2]])))\n",
    "        l3_reordered = tuple((tuple(points[i[2]]), tuple(points[i[1]])))\n",
    "        if l3 not in s and l3_reordered not in s:\n",
    "            L.append(l3)\n",
    "            s.add(l3)\n",
    "    return np.array(L)"
   ]
  },
  {
   "cell_type": "code",
   "execution_count": 118,
   "metadata": {},
   "outputs": [],
   "source": [
    "x = get_lines(M3)"
   ]
  },
  {
   "cell_type": "code",
   "execution_count": 119,
   "metadata": {},
   "outputs": [
    {
     "data": {
      "text/plain": [
       "array([[[0.625     , 0.21650635],\n",
       "        [0.75      , 0.        ]],\n",
       "\n",
       "       [[0.625     , 0.21650635],\n",
       "        [0.875     , 0.21650635]],\n",
       "\n",
       "       [[0.75      , 0.        ],\n",
       "        [0.875     , 0.21650635]],\n",
       "\n",
       "       [[0.625     , 0.21650635],\n",
       "        [0.5       , 0.        ]],\n",
       "\n",
       "       [[0.5       , 0.        ],\n",
       "        [0.75      , 0.        ]],\n",
       "\n",
       "       [[0.5       , 1.29903811],\n",
       "        [0.25      , 1.29903811]],\n",
       "\n",
       "       [[0.5       , 1.29903811],\n",
       "        [0.375     , 1.08253175]],\n",
       "\n",
       "       [[0.25      , 1.29903811],\n",
       "        [0.375     , 1.08253175]],\n",
       "\n",
       "       [[0.125     , 0.64951905],\n",
       "        [0.        , 0.8660254 ]],\n",
       "\n",
       "       [[0.125     , 0.64951905],\n",
       "        [0.        , 0.4330127 ]],\n",
       "\n",
       "       [[0.        , 0.8660254 ],\n",
       "        [0.        , 0.4330127 ]],\n",
       "\n",
       "       [[0.75      , 0.8660254 ],\n",
       "        [0.875     , 0.64951905]],\n",
       "\n",
       "       [[0.75      , 0.8660254 ],\n",
       "        [0.875     , 1.08253175]],\n",
       "\n",
       "       [[0.875     , 0.64951905],\n",
       "        [0.875     , 1.08253175]],\n",
       "\n",
       "       [[0.875     , 0.64951905],\n",
       "        [0.75      , 0.4330127 ]],\n",
       "\n",
       "       [[0.875     , 0.64951905],\n",
       "        [0.875     , 0.21650635]],\n",
       "\n",
       "       [[0.75      , 0.4330127 ],\n",
       "        [0.875     , 0.21650635]],\n",
       "\n",
       "       [[0.75      , 0.4330127 ],\n",
       "        [0.625     , 0.21650635]],\n",
       "\n",
       "       [[0.75      , 0.4330127 ],\n",
       "        [0.5       , 0.4330127 ]],\n",
       "\n",
       "       [[0.5       , 0.4330127 ],\n",
       "        [0.625     , 0.21650635]],\n",
       "\n",
       "       [[0.5       , 0.4330127 ],\n",
       "        [0.375     , 0.21650635]],\n",
       "\n",
       "       [[0.375     , 0.21650635],\n",
       "        [0.625     , 0.21650635]],\n",
       "\n",
       "       [[0.375     , 0.21650635],\n",
       "        [0.5       , 0.        ]],\n",
       "\n",
       "       [[0.        , 0.8660254 ],\n",
       "        [0.125     , 1.08253175]],\n",
       "\n",
       "       [[0.        , 0.8660254 ],\n",
       "        [0.        , 1.29903811]],\n",
       "\n",
       "       [[0.125     , 1.08253175],\n",
       "        [0.        , 1.29903811]],\n",
       "\n",
       "       [[0.25      , 1.29903811],\n",
       "        [0.125     , 1.08253175]],\n",
       "\n",
       "       [[0.125     , 1.08253175],\n",
       "        [0.375     , 1.08253175]],\n",
       "\n",
       "       [[0.25      , 1.29903811],\n",
       "        [0.        , 1.29903811]],\n",
       "\n",
       "       [[0.5       , 0.8660254 ],\n",
       "        [0.625     , 1.08253175]],\n",
       "\n",
       "       [[0.5       , 0.8660254 ],\n",
       "        [0.375     , 1.08253175]],\n",
       "\n",
       "       [[0.625     , 1.08253175],\n",
       "        [0.375     , 1.08253175]],\n",
       "\n",
       "       [[0.5       , 1.29903811],\n",
       "        [0.625     , 1.08253175]],\n",
       "\n",
       "       [[0.5       , 1.29903811],\n",
       "        [0.875     , 1.08253175]],\n",
       "\n",
       "       [[0.625     , 1.08253175],\n",
       "        [0.875     , 1.08253175]],\n",
       "\n",
       "       [[0.75      , 0.8660254 ],\n",
       "        [0.625     , 1.08253175]],\n",
       "\n",
       "       [[0.75      , 0.8660254 ],\n",
       "        [0.5       , 0.8660254 ]],\n",
       "\n",
       "       [[0.625     , 0.64951905],\n",
       "        [0.5       , 0.8660254 ]],\n",
       "\n",
       "       [[0.625     , 0.64951905],\n",
       "        [0.375     , 0.64951905]],\n",
       "\n",
       "       [[0.5       , 0.8660254 ],\n",
       "        [0.375     , 0.64951905]],\n",
       "\n",
       "       [[0.5       , 0.4330127 ],\n",
       "        [0.625     , 0.64951905]],\n",
       "\n",
       "       [[0.5       , 0.4330127 ],\n",
       "        [0.375     , 0.64951905]],\n",
       "\n",
       "       [[0.625     , 0.64951905],\n",
       "        [0.75      , 0.8660254 ]],\n",
       "\n",
       "       [[0.625     , 0.64951905],\n",
       "        [0.875     , 0.64951905]],\n",
       "\n",
       "       [[0.75      , 0.4330127 ],\n",
       "        [0.625     , 0.64951905]],\n",
       "\n",
       "       [[0.125     , 0.21650635],\n",
       "        [0.        , 0.4330127 ]],\n",
       "\n",
       "       [[0.125     , 0.21650635],\n",
       "        [0.        , 0.        ]],\n",
       "\n",
       "       [[0.        , 0.4330127 ],\n",
       "        [0.        , 0.        ]],\n",
       "\n",
       "       [[0.25      , 0.8660254 ],\n",
       "        [0.125     , 0.64951905]],\n",
       "\n",
       "       [[0.25      , 0.8660254 ],\n",
       "        [0.375     , 0.64951905]],\n",
       "\n",
       "       [[0.125     , 0.64951905],\n",
       "        [0.375     , 0.64951905]],\n",
       "\n",
       "       [[0.5       , 0.8660254 ],\n",
       "        [0.25      , 0.8660254 ]],\n",
       "\n",
       "       [[0.25      , 0.8660254 ],\n",
       "        [0.375     , 1.08253175]],\n",
       "\n",
       "       [[0.25      , 0.8660254 ],\n",
       "        [0.        , 0.8660254 ]],\n",
       "\n",
       "       [[0.25      , 0.8660254 ],\n",
       "        [0.125     , 1.08253175]],\n",
       "\n",
       "       [[0.25      , 0.4330127 ],\n",
       "        [0.5       , 0.4330127 ]],\n",
       "\n",
       "       [[0.25      , 0.4330127 ],\n",
       "        [0.375     , 0.64951905]],\n",
       "\n",
       "       [[0.25      , 0.4330127 ],\n",
       "        [0.125     , 0.64951905]],\n",
       "\n",
       "       [[0.25      , 0.4330127 ],\n",
       "        [0.        , 0.4330127 ]],\n",
       "\n",
       "       [[0.25      , 0.4330127 ],\n",
       "        [0.375     , 0.21650635]],\n",
       "\n",
       "       [[0.25      , 0.4330127 ],\n",
       "        [0.125     , 0.21650635]],\n",
       "\n",
       "       [[0.125     , 0.21650635],\n",
       "        [0.375     , 0.21650635]],\n",
       "\n",
       "       [[0.125     , 0.21650635],\n",
       "        [0.25      , 0.        ]],\n",
       "\n",
       "       [[0.25      , 0.        ],\n",
       "        [0.375     , 0.21650635]],\n",
       "\n",
       "       [[0.25      , 0.        ],\n",
       "        [0.5       , 0.        ]],\n",
       "\n",
       "       [[0.25      , 0.        ],\n",
       "        [0.        , 0.        ]]])"
      ]
     },
     "execution_count": 119,
     "metadata": {},
     "output_type": "execute_result"
    }
   ],
   "source": [
    "x"
   ]
  },
  {
   "cell_type": "code",
   "execution_count": 121,
   "metadata": {},
   "outputs": [
    {
     "data": {
      "text/plain": [
       "[array([ 0.5      , -0.8660254]),\n",
       " array([1., 0.]),\n",
       " array([0.5      , 0.8660254]),\n",
       " array([-0.5      , -0.8660254]),\n",
       " array([1., 0.]),\n",
       " array([-1.,  0.]),\n",
       " array([-0.5      , -0.8660254]),\n",
       " array([ 0.5      , -0.8660254]),\n",
       " array([-0.5      ,  0.8660254]),\n",
       " array([-0.5      , -0.8660254]),\n",
       " array([ 0., -1.]),\n",
       " array([ 0.5      , -0.8660254]),\n",
       " array([0.5      , 0.8660254]),\n",
       " array([0., 1.]),\n",
       " array([-0.5      , -0.8660254]),\n",
       " array([ 0., -1.]),\n",
       " array([ 0.5      , -0.8660254]),\n",
       " array([-0.5      , -0.8660254]),\n",
       " array([-1.,  0.]),\n",
       " array([ 0.5      , -0.8660254]),\n",
       " array([-0.5      , -0.8660254]),\n",
       " array([1., 0.]),\n",
       " array([ 0.5      , -0.8660254]),\n",
       " array([0.5      , 0.8660254]),\n",
       " array([0., 1.]),\n",
       " array([-0.5      ,  0.8660254]),\n",
       " array([-0.5      , -0.8660254]),\n",
       " array([1., 0.]),\n",
       " array([-1.,  0.]),\n",
       " array([0.5      , 0.8660254]),\n",
       " array([-0.5      ,  0.8660254]),\n",
       " array([-1.,  0.]),\n",
       " array([ 0.5      , -0.8660254]),\n",
       " array([ 0.8660254, -0.5      ]),\n",
       " array([1., 0.]),\n",
       " array([-0.5      ,  0.8660254]),\n",
       " array([-1.,  0.]),\n",
       " array([-0.5      ,  0.8660254]),\n",
       " array([-1.,  0.]),\n",
       " array([-0.5      , -0.8660254]),\n",
       " array([0.5      , 0.8660254]),\n",
       " array([-0.5      ,  0.8660254]),\n",
       " array([0.5      , 0.8660254]),\n",
       " array([1., 0.]),\n",
       " array([-0.5      ,  0.8660254]),\n",
       " array([-0.5      ,  0.8660254]),\n",
       " array([-0.5      , -0.8660254]),\n",
       " array([ 0., -1.]),\n",
       " array([-0.5      , -0.8660254]),\n",
       " array([ 0.5      , -0.8660254]),\n",
       " array([1., 0.]),\n",
       " array([-1.,  0.]),\n",
       " array([0.5      , 0.8660254]),\n",
       " array([-1.,  0.]),\n",
       " array([-0.5      ,  0.8660254]),\n",
       " array([1., 0.]),\n",
       " array([0.5      , 0.8660254]),\n",
       " array([-0.5      ,  0.8660254]),\n",
       " array([-1.,  0.]),\n",
       " array([ 0.5      , -0.8660254]),\n",
       " array([-0.5      , -0.8660254]),\n",
       " array([1., 0.]),\n",
       " array([ 0.5      , -0.8660254]),\n",
       " array([0.5      , 0.8660254]),\n",
       " array([1., 0.]),\n",
       " array([-1.,  0.])]"
      ]
     },
     "execution_count": 121,
     "metadata": {},
     "output_type": "execute_result"
    }
   ],
   "source": [
    "def get_norm_lines(points):\n",
    "    S = get_lines(points)\n",
    "    V = []\n",
    "    L = []\n",
    "    for idx, s in enumerate(S):\n",
    "        v = s[1] - s[0]\n",
    "        V.append(v / np.linalg.norm(v))\n",
    "        L.append(np.linalg.norm(v))\n",
    "    return V, L\n",
    "\n",
    "S, L =get_norm_lines(M3)\n",
    "S"
   ]
  },
  {
   "cell_type": "code",
   "execution_count": 128,
   "metadata": {},
   "outputs": [
    {
     "data": {
      "text/plain": [
       "0.3261343839027654"
      ]
     },
     "execution_count": 128,
     "metadata": {},
     "output_type": "execute_result"
    }
   ],
   "source": [
    "x = get_lines(M3)\n",
    "x_norm, L = get_norm_lines(M3)\n",
    "\n",
    "L0 = 1.2*np.sqrt(np.power(L,2).sum()/len(L))\n",
    "L0"
   ]
  },
  {
   "cell_type": "code",
   "execution_count": 131,
   "metadata": {},
   "outputs": [
    {
     "data": {
      "text/plain": [
       "[array([ 0., -0.]),\n",
       " array([-2.77555756e-17, -0.00000000e+00]),\n",
       " array([0., 0.]),\n",
       " array([-0., -0.]),\n",
       " array([-2.77555756e-17, -0.00000000e+00]),\n",
       " array([ 2.77555756e-17, -0.00000000e+00]),\n",
       " array([6.93889390e-17, 1.20185168e-16]),\n",
       " array([-6.93889390e-17,  1.20185168e-16]),\n",
       " array([-1.38777878e-17,  2.40370336e-17]),\n",
       " array([4.16333634e-17, 7.21111007e-17]),\n",
       " array([-0.       ,  0.1830127]),\n",
       " array([ 1.38777878e-17, -2.40370336e-17]),\n",
       " array([1.38777878e-17, 2.40370336e-17]),\n",
       " array([-0.       , -0.1830127]),\n",
       " array([4.16333634e-17, 7.21111007e-17]),\n",
       " array([-0.       ,  0.1830127]),\n",
       " array([ 0., -0.]),\n",
       " array([-0., -0.]),\n",
       " array([ 2.77555756e-17, -0.00000000e+00]),\n",
       " array([ 0., -0.]),\n",
       " array([-0., -0.]),\n",
       " array([-2.77555756e-17, -0.00000000e+00]),\n",
       " array([ 0., -0.]),\n",
       " array([1.38777878e-17, 2.40370336e-17]),\n",
       " array([-0.       , -0.1830127]),\n",
       " array([ 6.93889390e-17, -1.20185168e-16]),\n",
       " array([6.93889390e-17, 1.20185168e-16]),\n",
       " array([-2.77555756e-17, -0.00000000e+00]),\n",
       " array([ 2.77555756e-17, -0.00000000e+00]),\n",
       " array([1.38777878e-17, 2.40370336e-17]),\n",
       " array([-1.38777878e-17,  2.40370336e-17]),\n",
       " array([ 2.77555756e-17, -0.00000000e+00]),\n",
       " array([-6.93889390e-17,  1.20185168e-16]),\n",
       " array([-0.15849365,  0.09150635]),\n",
       " array([-2.77555756e-17, -0.00000000e+00]),\n",
       " array([-1.38777878e-17,  2.40370336e-17]),\n",
       " array([ 2.77555756e-17, -0.00000000e+00]),\n",
       " array([-1.38777878e-17,  2.40370336e-17]),\n",
       " array([ 2.77555756e-17, -0.00000000e+00]),\n",
       " array([-1.38777878e-17, -2.40370336e-17]),\n",
       " array([-4.16333634e-17, -7.21111007e-17]),\n",
       " array([ 4.16333634e-17, -7.21111007e-17]),\n",
       " array([1.38777878e-17, 2.40370336e-17]),\n",
       " array([-2.77555756e-17, -0.00000000e+00]),\n",
       " array([ 4.16333634e-17, -7.21111007e-17]),\n",
       " array([-0.,  0.]),\n",
       " array([-0., -0.]),\n",
       " array([-0.       ,  0.1830127]),\n",
       " array([-1.38777878e-17, -2.40370336e-17]),\n",
       " array([ 1.38777878e-17, -2.40370336e-17]),\n",
       " array([-2.77555756e-17, -0.00000000e+00]),\n",
       " array([ 2.77555756e-17, -0.00000000e+00]),\n",
       " array([1.38777878e-17, 2.40370336e-17]),\n",
       " array([ 2.77555756e-17, -0.00000000e+00]),\n",
       " array([-1.38777878e-17,  2.40370336e-17]),\n",
       " array([-2.77555756e-17, -0.00000000e+00]),\n",
       " array([-4.16333634e-17, -7.21111007e-17]),\n",
       " array([ 4.16333634e-17, -7.21111007e-17]),\n",
       " array([ 2.77555756e-17, -0.00000000e+00]),\n",
       " array([ 0., -0.]),\n",
       " array([-0., -0.]),\n",
       " array([-2.77555756e-17, -0.00000000e+00]),\n",
       " array([ 0., -0.]),\n",
       " array([0., 0.]),\n",
       " array([-2.77555756e-17, -0.00000000e+00]),\n",
       " array([ 2.77555756e-17, -0.00000000e+00])]"
      ]
     },
     "execution_count": 131,
     "metadata": {},
     "output_type": "execute_result"
    }
   ],
   "source": [
    "forces = []\n",
    "for idx, v in enumerate(x_norm):\n",
    "    forces.append(np.max(L[0]-L[idx],0)*x_norm[idx])\n",
    "forces"
   ]
  },
  {
   "cell_type": "code",
   "execution_count": 133,
   "metadata": {},
   "outputs": [
    {
     "data": {
      "text/plain": [
       "array([[[2.        , 0.        ],\n",
       "        [1.        , 1.73205081]],\n",
       "\n",
       "       [[2.        , 0.        ],\n",
       "        [0.        , 0.        ]],\n",
       "\n",
       "       [[1.        , 1.73205081],\n",
       "        [0.        , 0.        ]]])"
      ]
     },
     "execution_count": 133,
     "metadata": {},
     "output_type": "execute_result"
    }
   ],
   "source": [
    "# Cas test simple\n",
    "P = [[0,0],[2,0],[1,np.sqrt(3)]]\n",
    "get_lines(P)"
   ]
  },
  {
   "cell_type": "code",
   "execution_count": 134,
   "metadata": {},
   "outputs": [
    {
     "data": {
      "text/plain": [
       "([array([-0.5      ,  0.8660254]),\n",
       "  array([-1.,  0.]),\n",
       "  array([-0.5      , -0.8660254])],\n",
       " [1.9999999999999998, 2.0, 1.9999999999999998])"
      ]
     },
     "execution_count": 134,
     "metadata": {},
     "output_type": "execute_result"
    }
   ],
   "source": [
    "get_norm_lines(P)"
   ]
  },
  {
   "cell_type": "markdown",
   "metadata": {},
   "source": [
    "## Algorithme de Newton : Projection sur le bord\n",
    "\n",
    "Après une étape de déplacement des points, certains d'entre eux peuvent se retrouver en dehors du domaine. On va donc reprojeter ces points sur le bord du domaine.  \n",
    "\n",
    "Pour ce faire, on se donne une fonction $f$ (suffisament régulière) dont l'isovaleur $f(X) = 0$ décrit le bord\n",
    "du domaine de calcul. On cherchera à projeter des points proches du bord orthogonalement sur le bord. On utilise pour cela une méthode de type Newton : étant donné un point $X_0$ à projeter, on définit la fonction $g(\\lambda)$ par\n",
    "\n",
    "$$g(\\lambda) = f\\left(X_0 + \\lambda \\nabla f(X_0)\\right),$$\n",
    "\n",
    "et on construit une suite $\\lambda_k$ qui converge vers $\\lambda_*$ tel que $g(\\lambda_*) = 0$. Plus précisément, on applique l'algorithme :\n",
    "\n",
    "$$\\lambda_0 = 0 \\quad \\text{ et } \\quad \\lambda_{k+1} = \\lambda_k - g(\\lambda_k)/g'(\\lambda_k) \\quad \\text{ jusqu'à convergence.}$$"
   ]
  },
  {
   "cell_type": "markdown",
   "metadata": {},
   "source": [
    "Implémenter une fonction *Newton* qui prend comme argument (entre autre) la fonction $f$ et renvoie le coefficient $\\lambda$ calculé par cette méthode. Le point projeté est $X_0 +  \\lambda \\nabla f(X_0)$.  Tester la méthode sur des cas pratiques.\n",
    "\n",
    "*Indications :* Pour le calcul de $\\nabla f(X)$ on pourra (par exemple) :\n",
    "- Soit passer la fonction qui calcule aussi $\\nabla f$ en paramètre si on la connait analytiquement.\n",
    "- Soit calculer $\\nabla f(X)$ en l'approchant par différences finies (prendre typiquement $\\epsilon = 1e-4$) \n",
    "\n",
    "$$ \\nabla f(X) \\approx \\left( \\frac{f(X_0+\\epsilon e_1) - f(X_0-\\epsilon e_1)}{2 \\epsilon}, \\quad  \\frac{f(X_0+\\epsilon e_2) - f(X_0- \\epsilon e_2)}{2\\epsilon}\\right)^T.$$"
   ]
  },
  {
   "cell_type": "code",
   "execution_count": 139,
   "metadata": {},
   "outputs": [],
   "source": [
    "def grad_approx(f, X, epsilon=1e-4):\n",
    "    # calcul du gradient par différences finies centrées avec un pas epsilon\n",
    "    return np.array([ f([X[0]+epsilon, X[1]])-f([X[0]-epsilon,X[1]]), f([X[0], X[1]+epsilon])-f([X[0],X[1]-epsilon])])/(2*epsilon)\n",
    "\n",
    "\n",
    "def Newton(f, X0, iter_max, TOL):\n",
    "    \"\"\"\n",
    "    Renvoie X_* tel que g(X_*) = 0 donnée par la méthode de Newton\n",
    "    ----------   \n",
    "    Paramètres :\n",
    "    f        : fonction pour laquelle on cherche une isovaleur f(X_*) = 0\n",
    "    X0       : position initiale \n",
    "    iter_max : nombre maximum d'itérations\n",
    "    TOL      : tolérance pour le critère d'arrêt\n",
    "    \n",
    "    Retourne :\n",
    "    -la position approchée par la méthode de Newton\n",
    "    \"\"\"   \n",
    "    i = 0\n",
    "    lambda_k = 0\n",
    "    while i < iter_max:\n",
    "        g = f(X0 + lambda_k*grad_approx(f,X0,1e-4))\n",
    "        dg = (f(X0 + (lambda_k+1e-4)*grad_approx(f,X0,1e-4)) - f(X0 + lambda_k*grad_approx(f,X0,1e-4)))/1e-4\n",
    "        lambda_k1 = lambda_k - g/dg\n",
    "        if np.abs(lambda_k1 - lambda_k)<TOL:\n",
    "            return lambda_k1\n",
    "        lambda_k = lambda_k1\n",
    "        i+=1\n",
    "    return lambda_k"
   ]
  },
  {
   "cell_type": "code",
   "execution_count": 150,
   "metadata": {},
   "outputs": [
    {
     "data": {
      "text/plain": [
       "0.03783862189661767"
      ]
     },
     "execution_count": 150,
     "metadata": {},
     "output_type": "execute_result"
    }
   ],
   "source": [
    "# Cas test simple\n",
    "f = lambda x : (x[0]-3)**2 + (x[1]-4)**3\n",
    "X0 = np.array([0,0])\n",
    "g = lambda x : f(X0 + x*grad_approx(f,X0))\n",
    "\n",
    "l = Newton(f,X0,100,1e-6)\n",
    "l"
   ]
  },
  {
   "cell_type": "code",
   "execution_count": 151,
   "metadata": {},
   "outputs": [
    {
     "data": {
      "text/plain": [
       "3.7323690094126505e-07"
      ]
     },
     "execution_count": 151,
     "metadata": {},
     "output_type": "execute_result"
    }
   ],
   "source": [
    "g(l)"
   ]
  },
  {
   "cell_type": "markdown",
   "metadata": {},
   "source": [
    "## Déplacement des points\n",
    "\n",
    "1. Pour chaque sommet, sommer les forces issues des sommets auxquels il est relié par une arête.\n",
    "\n",
    "2. Appliquer à chaque sommet un déplacement égal à sa force cumulée multipliée par un paramètre $\\delta t = 0.2$. On notera (avec des abus de notations) \n",
    "\n",
    "    $$ X_i^{n+1} = X_i^n + \\delta t F_i$$\n",
    "\n",
    "    la position du sommet numéro $i$ à l'étape $n+1$ de l'algorithme, en fonction de la force $F_i$ qu'il reçoit.\n",
    "\n",
    "3. Repérer les points qui sortent du domaine et les reprojeter sur le bord grâce à la méthode de Newton.\n",
    "\n",
    "4. Retrianguler le nuage de points nouvellement obtenu et tracer le maillage courant.\n",
    "\n",
    "5. Réitérer la procédure jusqu'à convergence."
   ]
  },
  {
   "cell_type": "code",
   "execution_count": 20,
   "metadata": {},
   "outputs": [],
   "source": [
    "# Cas test "
   ]
  },
  {
   "cell_type": "markdown",
   "metadata": {},
   "source": [
    "# Pour aller plus loin\n",
    "\n",
    "Améliorer les maillages construits par le code que l'on vient d'écrire en :\n",
    "1. Supprimant les points trop proches :\n",
    "    Si la longueur d'une arêtes descend sous la tolérance $\\delta$, fusionner les deux points qui compose cette arête pour en former un seul à mi-distance.\n",
    "\n",
    "2. Considérant des domaînes non-convexes :\n",
    "    Faire une procédure qui supprime les triangles à l'extérieur du domaine (la fonction Delaunay maille en effet l'enveloppe convexe des points fournis).\n",
    "    \n",
    "3. Adaptant localement le pas du maillage :\n",
    "    Faire varier la longueur idéal $L_0$ en fonction de la position dans le domaine (pour faire du raffinement local de maillage).\n",
    "    \n",
    "4. Étendant la méthode en 3D :\n",
    "    Construire un mailleur en tétraèdres en 3D. Qu'est-ce qui change par rapport aux idées évoquées ici?"
   ]
  },
  {
   "cell_type": "code",
   "execution_count": null,
   "metadata": {},
   "outputs": [],
   "source": []
  },
  {
   "cell_type": "code",
   "execution_count": null,
   "metadata": {},
   "outputs": [],
   "source": []
  }
 ],
 "metadata": {
  "kernelspec": {
   "display_name": "Python 3",
   "language": "python",
   "name": "python3"
  },
  "language_info": {
   "codemirror_mode": {
    "name": "ipython",
    "version": 3
   },
   "file_extension": ".py",
   "mimetype": "text/x-python",
   "name": "python",
   "nbconvert_exporter": "python",
   "pygments_lexer": "ipython3",
   "version": "3.8.5"
  },
  "latex_envs": {
   "LaTeX_envs_menu_present": true,
   "autoclose": false,
   "autocomplete": true,
   "bibliofile": "biblio.bib",
   "cite_by": "apalike",
   "current_citInitial": 1,
   "eqLabelWithNumbers": true,
   "eqNumInitial": 1,
   "hotkeys": {
    "equation": "Ctrl-E",
    "itemize": "Ctrl-I"
   },
   "labels_anchors": false,
   "latex_user_defs": false,
   "report_style_numbering": false,
   "user_envs_cfg": false
  },
  "toc": {
   "base_numbering": 1,
   "nav_menu": {},
   "number_sections": true,
   "sideBar": true,
   "skip_h1_title": false,
   "title_cell": "Table of Contents",
   "title_sidebar": "Contents",
   "toc_cell": false,
   "toc_position": {},
   "toc_section_display": true,
   "toc_window_display": false
  }
 },
 "nbformat": 4,
 "nbformat_minor": 2
}
