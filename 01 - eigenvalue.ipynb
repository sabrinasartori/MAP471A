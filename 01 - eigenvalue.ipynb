{
 "cells": [
  {
   "cell_type": "markdown",
   "metadata": {},
   "source": [
    "<br/>\n",
    "  <FONT size =\"3pt\"> MODAL MAP472A : Problem solving en math app </FONT>   \n",
    "  \n",
    "---\n",
    "---\n",
    "<FONT size =\"5pt\"> TP déterministe 1 : <center><b>Problème aux valeurs propres</b>  </center></FONT> \n",
    "\n",
    "---\n",
    "---\n",
    "<br /> "
   ]
  },
  {
   "cell_type": "code",
   "execution_count": 1,
   "metadata": {},
   "outputs": [],
   "source": [
    "# importation de fonctions et de librairies\n",
    "import numpy as np\n",
    "import numpy.linalg as lin\n",
    "import matplotlib.pyplot as plt\n",
    "from scipy.linalg import lu_factor, lu_solve, qr"
   ]
  },
  {
   "cell_type": "markdown",
   "metadata": {},
   "source": [
    "Dans ce TP, on va étudier plusieurs méthodes numérique pour la recherche de valeurs propres et de vecteurs propres, c'est à dire pour une matrice $A\\in\\mathbb{R}^{N\\times N}$, on cherche un ou tous les $\\lambda\\in\\mathbb{R}$ et $V\\in\\mathbb{R}^N$ tels que\n",
    "\n",
    "$$AV = \\lambda V.$$\n",
    "\n",
    "On pourra dans un premier temps tester ces méthodes sur les matrices de la forme (pour différentes valeurs de $N$) :"
   ]
  },
  {
   "cell_type": "code",
   "execution_count": 2,
   "metadata": {},
   "outputs": [
    {
     "name": "stdout",
     "output_type": "stream",
     "text": [
      "Laplacien(3) :\n",
      " [[ 2. -1.  0.]\n",
      " [-1.  2. -1.]\n",
      " [ 0. -1.  2.]]\n"
     ]
    }
   ],
   "source": [
    "def Laplacien(N):\n",
    "    #construit la matrice du Laplacien 1D\n",
    "    return 2*np.eye(N) - np.diag(np.ones(N-1),1) - np.diag(np.ones(N-1),-1)\n",
    "\n",
    "print(\"Laplacien(3) :\\n\", Laplacien(3))"
   ]
  },
  {
   "cell_type": "markdown",
   "metadata": {},
   "source": [
    "On appliquera dans un second temps ces méthodes pour étudier les ondes émises par un tambour et on étudiera alors les valeurs propres du Laplacien 2D discrétisé. \n",
    "\n",
    "\n",
    "On notera $\\|V\\| = \\sqrt{V^T V}$ dans tout ce TP.  "
   ]
  },
  {
   "cell_type": "markdown",
   "metadata": {},
   "source": [
    "# Méthode de la puissance\n",
    "La méthode de la puissance consiste à multiplier itérativement un vecteur par la matrice $A$ afin de récupérer sa plus grande valeur propre. L'algorithme prend la forme\n",
    "- **Initialisation** : Choix d'un vecteur $V^0\\in\\mathbb{R}^N$ de norme $\\|V^0\\| = 1$.\n",
    "- **Itération** : Calculer $$W^{i+1} = A V^0, \\qquad V^{i+1} = \\frac{W^{i+1}}{ \\|W^{i+1}\\|}$$ jusqu'à convergence. "
   ]
  },
  {
   "cell_type": "markdown",
   "metadata": {},
   "source": [
    "1. Implémenter cet algorithme et le tester avec la matrice du Laplacien $L\\in\\mathbb{R}^{N\\times N}$ pour $N = 50$ avec un critère de tolérance de $10^{-3}$. Puis avec un critère de tolérance de $10^{-12}$."
   ]
  },
  {
   "cell_type": "code",
   "execution_count": 17,
   "metadata": {},
   "outputs": [],
   "source": [
    "def puissance(A, V, N_max, TOL):\n",
    "    \"\"\"\n",
    "    Renvoie une valeur propre approchée de A par la méthode de la puissance\n",
    "    ----------   \n",
    "    Paramètres :\n",
    "    A     : matrice\n",
    "    V     : vecteur initial \n",
    "    N_max : nombre maximum d'itérations\n",
    "    TOL   : tolérance pour le critère d'arrêt\n",
    "    \n",
    "    Retourne :\n",
    "    -Valeur propre approchée à la fin des itérations\n",
    "    -Vecteur propre associé\n",
    "    -Vecteur contenant l'erreur à chaque itération pour étudier la convergence\n",
    "    \"\"\"\n",
    "    N = 0\n",
    "    e = np.inf\n",
    "    Wi = A @ V\n",
    "    Vii = V\n",
    "    lambda_ = 0\n",
    "    error = []\n",
    "    while N <= N_max and e > TOL:\n",
    "        Vi = Vii\n",
    "        lambda_ = ((A @ Vi)/Vi).max()\n",
    "        e = lin.norm((A @ Vi ) - lambda_ * Vi)\n",
    "        error.append(e)\n",
    "        W = A @ Vi\n",
    "        Vii = W / lin.norm(W)\n",
    "        N += 1\n",
    "    return lambda_, Vi, error"
   ]
  },
  {
   "cell_type": "code",
   "execution_count": 18,
   "metadata": {},
   "outputs": [
    {
     "name": "stdout",
     "output_type": "stream",
     "text": [
      "\n",
      "        Case: Identity matrix\n",
      "        Eigenvalue: 1\n",
      "        Calculated eigenvalue: 1.0\n",
      "        \n",
      "\n",
      "        Case: Random matrix\n",
      "        Eigenvalue: 4.612947399122087\n",
      "        Calculated eigenvalue: 4.612947399165358\n",
      "        \n"
     ]
    }
   ],
   "source": [
    "# On commence par tester l'algorithme sur un cas trivial que l'on peut vérifier !\n",
    "# 1.b Proposer un/des cas test (matrice, vecteur initiale...) pour tester votre algorithme\n",
    "\n",
    "Mrand = np.random.rand(10,10)\n",
    "eigvalrand, eigenvectrand = lin.eig(Mrand)\n",
    "eigvalmax = np.max(np.abs(eigvalrand))\n",
    "\n",
    "tests = {\n",
    "    \"Identity matrix\" : {\n",
    "        \"A\" : np.eye(10),\n",
    "        \"eigenval\" : 1\n",
    "    },\n",
    "    \"Random matrix\" : {\n",
    "        \"A\" : Mrand,\n",
    "        \"eigenval\" : eigvalmax\n",
    "    }\n",
    "}\n",
    "\n",
    "for case, test in tests.items():\n",
    "    A = test[\"A\"]\n",
    "    V = np.random.rand(np.size(A[0]))\n",
    "    V = V / lin.norm(V)\n",
    "\n",
    "    eigenval_puissance, v, error = puissance(A, V, 100, 1e-10)\n",
    "\n",
    "    print(\n",
    "        f\"\"\"\n",
    "        Case: {case}\n",
    "        Eigenvalue: {test[\"eigenval\"]}\n",
    "        Calculated eigenvalue: {eigenval_puissance}\n",
    "        \"\"\"\n",
    "    )"
   ]
  },
  {
   "cell_type": "markdown",
   "metadata": {},
   "source": [
    "2. En supposant que l'algorithme converge vers une solution $V^{\\infty} = \\frac{A V^\\infty}{ \\|AV^\\infty\\|}$, comment obtenir la valeur propre associée? Proposer un critère de convergence pour l'algorithme.\n",
    "---\n"
   ]
  },
  {
   "cell_type": "markdown",
   "metadata": {},
   "source": [
    "On le fait par recurrence, avec condition initiale $V^{1} =  \\frac{A V^{0}}{|A V^{0}|}$ et l'expression iterée:\n",
    "\n",
    "$V^{i+1} = \\frac{A V^{i}}{|A V^{i}|}$\n",
    "\n",
    "Un critère de convergence est ne pas avoir toutes valeurs propres nulles."
   ]
  },
  {
   "cell_type": "markdown",
   "metadata": {},
   "source": [
    "3. En supposant que $A$ est symétrique définie positive, montrer que l'algorithme converge et donner son taux de convergence. \n",
    "---\n"
   ]
  },
  {
   "cell_type": "markdown",
   "metadata": {},
   "source": [
    "Si A n x n est symétrique définie positive, elle a n valeurs propres positifs $\\lambda_1, \\lambda_2, ..., \\lambda_n$ et ses vecteurs propres associés sont $v_1, v_2, ..., v_n$. Soit $\\lambda_1$ celui dont la valeur absolue est plus grande, on choisi le vecteur initial $x_0 = c_1 x_1 + c_2 x_2 + ... + c_n x_n$, et on a que:\n",
    "\n",
    "$ A^k x_0 = \\lambda_1 ^k \\left [ c_1 x_1 + c_2 \\left ( \\frac{\\lambda_2}{\\lambda_1} \\right )^k x_2 + ... + c_n \\left ( \\frac{\\lambda_n}{\\lambda_1} \\right )^k x_n \\right ] $\n",
    "\n",
    "Donc quand k tend vers l'infini, $A^k x_0 \\approx \\lambda_1 ^k c_1 x_1$ et alors cela s'approche d'un multiple du vecteur propre $x_1$ avec taux de convergence $\\frac{\\left | \\lambda_2 \\right |}{\\left | \\lambda_1 \\right |}$. Le plus proches $\\lambda_1$ et $\\lambda_2$ sont, plus d'intéractions sont necessaires."
   ]
  },
  {
   "cell_type": "markdown",
   "metadata": {},
   "source": [
    "4. Tracer les courbes de convergence avec les matrices *Laplacien(10)*. Évaluer numériquement le taux de convergence de l'algorithme. Qu'en déduire sur la seconde valeur propre de ces matrices?"
   ]
  },
  {
   "cell_type": "code",
   "execution_count": 49,
   "metadata": {},
   "outputs": [
    {
     "name": "stdout",
     "output_type": "stream",
     "text": [
      "Valeur propre exacte:\n",
      " 3.9189859472289927 \n",
      "\n",
      "1e valeur propre\n",
      " 3.920397367936059 \n",
      "\n",
      "Vecteur propre associé\n",
      " [-0.12084356  0.23172846 -0.32355641  0.38886306 -0.42243069  0.42168769\n",
      " -0.38686996  0.320946   -0.22932953  0.11941775] \n",
      "\n",
      "Erreur finale\n",
      " [2.2576186607581357, 6.269034212110981, 7.255839824478684, 2.0791984655014697, 3.628693469146432, 0.9697020265655958, 0.7387018711645953, 0.5809935799913402, 0.47236235979558727, 5.110861030601184, 1.6635797462235096, 8.621695870683084, 2.4792802477110616, 3.968685998739502, 1.7160234973447328, 1.0553427029283038, 0.7431221066756362, 0.5631057684188696, 0.44705648929856723, 0.3666269535301488, 0.307948324333787, 0.26345147762008997, 0.2286683019415367, 0.20080045235522473, 0.18167852994984693, 0.16901987672437607, 0.15723460182304422, 0.14626662783843886, 0.13995364536116073, 0.13430668691629846, 0.13099839906500416, 0.1266738579795659, 0.12154110942751328, 0.11591859331742925, 0.11004451108417868, 0.10409307577140937, 0.0981889161328538, 0.09241896332920352, 0.086841882792601, 0.08149538299359112, 0.0764017934881252, 0.07157227854144561, 0.06700999675946924, 0.0627124569315453, 0.05867326596521458, 0.05488341955770544, 0.051332250172254394, 0.04800811884070526, 0.044898915850813875, 0.04199241911302032, 0.039276546752209346, 0.03673953127745432, 0.03437003579693661, 0.03215722759123639, 0.0300908205003009, 0.028161094690015136, 0.0263589001987214, 0.024675649039222473, 0.023103299411730276, 0.02163433466629268, 0.020261738963756687, 0.018978971065782228, 0.01777993729456803, 0.016658964410016887, 0.015610772932429696, 0.014630451274438926, 0.013713430923361435, 0.012855462824325514, 0.012052595047588337, 0.011301151774681427, 0.010597713602920899, 0.009939099142987358, 0.009322347867274532, 0.008744704155420144, 0.008203602476530326, 0.007696653643831561, 0.007221632076102363, 0.006776464000469676, 0.0063592165325967375, 0.005968087572565935, 0.0056013964575200624, 0.005257575315243559, 0.0049351610661376635, 0.004632788024382638, 0.00434918105238629, 0.004083149225825969, 0.003833579969718071, 0.0035994336288936893, 0.003379738439047423, 0.003173585867157716, 0.0029801262925276584, 0.0027985650019797803, 0.0026281584748371486, 0.00246821093531311, 0.0023180711517017828, 0.002177129463466118, 0.002044815018808192, 0.0019205932067528381, 0.0018039632690427965, 0.001694456078341519, 0.001591632070313529]\n"
     ]
    }
   ],
   "source": [
    "# Cas test Laplacien(10)\n",
    "\n",
    "A = Laplacien(10)\n",
    "eigvals, eigvect = lin.eig(A)\n",
    "eigval_exact = np.max(np.abs(eigvals))\n",
    "eigval, eigvect1, erreur1 = puissance(A, np.random.rand(10), 100, 1e-12)\n",
    "\n",
    "print(\"Valeur propre exacte:\\n\", eigval_exact, \"\\n\")\n",
    "print(\"1e valeur propre\\n\",         eigval,\"\\n\")\n",
    "print(\"Vecteur propre associé\\n\", eigvect1,\"\\n\")\n",
    "print(\"Erreur finale\\n\",          erreur1)\n"
   ]
  },
  {
   "cell_type": "code",
   "execution_count": 46,
   "metadata": {},
   "outputs": [
    {
     "data": {
      "text/plain": [
       "[<matplotlib.lines.Line2D at 0x24fffabaf10>]"
      ]
     },
     "execution_count": 46,
     "metadata": {},
     "output_type": "execute_result"
    },
    {
     "data": {
      "image/png": "[encoded data removed]",
      "text/plain": [
       "<Figure size 432x288 with 1 Axes>"
      ]
     },
     "metadata": {
      "needs_background": "light"
     },
     "output_type": "display_data"
    }
   ],
   "source": [
    "# calcul d'erreur\n",
    "plt.title(\"Error with interations\")\n",
    "plt.plot(erreur1)\n"
   ]
  },
  {
   "cell_type": "code",
   "execution_count": 47,
   "metadata": {},
   "outputs": [
    {
     "data": {
      "text/plain": [
       "[<matplotlib.lines.Line2D at 0x24fffb29610>]"
      ]
     },
     "execution_count": 47,
     "metadata": {},
     "output_type": "execute_result"
    },
    {
     "data": {
      "image/png": "[encoded data removed]",
      "text/plain": [
       "<Figure size 432x288 with 1 Axes>"
      ]
     },
     "metadata": {
      "needs_background": "light"
     },
     "output_type": "display_data"
    }
   ],
   "source": [
    "plt.title(\"Erreur en échelle logaritmique\")\n",
    "plt.plot(np.log(erreur1))"
   ]
  },
  {
   "cell_type": "markdown",
   "metadata": {},
   "source": [
    "On voit que l'erreur n'a pas une taux de convergence si rapide, et qu'il peut osciler dans les premières interactions. Alors on peut concluire que la deuxième valeur propre est proche de la première."
   ]
  },
  {
   "cell_type": "markdown",
   "metadata": {},
   "source": [
    "# Son d'un tambour\n",
    "\n",
    "On peut relier la description des ondes accoustiques produites à la déformation périodique de l'objet qui l'a produit. Ces ondes de déformation sont généralement régies par l'équation des ondes \n",
    "\n",
    "$$\\partial_t^2 d - \\Delta_x d = 0.$$ \n",
    "\n",
    "En faisant une hypothèse de séparation des variables $d(t,x) = H(t)D(x)$, on arrive à un problème aux valeurs propres suivant \n",
    "\n",
    "- \"Chercher $\\lambda$ et $D(x)$ tels que $\\Delta_x D = \\lambda D$\".\n",
    "\n",
    "En 1D, l'exemple type de la corde vibrante peut se résoudre analytiquement menant à une solution sinusoïdale dont la période dépend des conditions de bord.\n",
    "\n",
    "On va s'intéresser ici au cas 2D discret et chercher à tracer les courbes de Chladni, isocontours de la fonction $D(x)$. "
   ]
  },
  {
   "cell_type": "markdown",
   "metadata": {},
   "source": [
    "1. a) On écrit le Laplacien discret en 2D comme \n",
    "\n",
    "$$\\Delta_x D(x_{i,j}) \\approx (L D)_{i,j} = \\frac{1}{\\Delta_x^2} \\left(-D_{i+1,j}+2D_{i,j}-D_{i-1,j}\\right) + \\frac{1}{\\Delta_y^2} \\left(-D_{i,j+1}+2D_{i,j}-D_{i,j-1}\\right),$$\n",
    "\n",
    "où $D_{i,j} \\approx D(x_{i,j})$ et $L$ est le Laplacien discrétisé. On cherche désormais à résoudre $L D = \\lambda D$. \n",
    "\n",
    "Pour le moment, on imposera des conditions de bord de type Dirichlet $D(0,y) = 0 = D(1,y) = D(x,0) = D(x,1).$\n",
    "\n",
    "On réécrit $D_{i,j}$ sous la forme d'un vecteur $\\tilde{D}_l$. Écrire la matrice du Laplacien 2D avec ces conditions de bord, i.e. la matrice $\\tilde{L}$ telle que $(\\tilde{L} \\tilde{D})_l = (L D)_{i,j}$.\n",
    "\n",
    "*On pourra réutiliser cette construction ultérieurement.*\n",
    "\n",
    "---\n",
    "\n",
    "b) Implémenter la construction de cette matrice. *Par simplicité, on pourra fixer le nombre de maille $N$ en $x$ et en $y$ égaux et on multipliera l'équation par $\\frac{1}{\\Delta x^2}$ pour ne faire apparaitre que des entiers dans cette matrice.* "
   ]
  },
  {
   "cell_type": "markdown",
   "metadata": {},
   "source": [
    "Si on fixe $\\Delta_x = \\Delta_y$ et multiplie l'équation par $\\frac{1}{\\Delta_x}$, on a $(\\tilde{L}\\tilde{D})_l = 4 D_{i,j} - D_{i+1,j} - D_{i-1,j} - D_{i,j+1} - D_{i,j-1}$. "
   ]
  },
  {
   "cell_type": "code",
   "execution_count": 59,
   "metadata": {},
   "outputs": [
    {
     "name": "stdout",
     "output_type": "stream",
     "text": [
      "Laplacien 2D(3) :\n",
      " [[ 4. -1.  0. -1.  0.  0.  0.  0.  0.]\n",
      " [-1.  4. -1.  0. -1.  0.  0.  0.  0.]\n",
      " [ 0. -1.  4.  0.  0. -1.  0.  0.  0.]\n",
      " [-1.  0.  0.  4. -1.  0. -1.  0.  0.]\n",
      " [ 0. -1.  0. -1.  4. -1.  0. -1.  0.]\n",
      " [ 0.  0. -1.  0. -1.  4.  0.  0. -1.]\n",
      " [ 0.  0.  0. -1.  0.  0.  4. -1.  0.]\n",
      " [ 0.  0.  0.  0. -1.  0. -1.  4. -1.]\n",
      " [ 0.  0.  0.  0.  0. -1.  0. -1.  4.]]\n"
     ]
    }
   ],
   "source": [
    "def Laplacien_2D_Dirichlet(N):\n",
    "    \"\"\"\n",
    "    Renvoie la matrice (carrée) du Laplacien 2D avec des conditions de Dirichlet au bord\n",
    "    ----------   \n",
    "    Paramètres :\n",
    "    N     : nb de pas d'espace dans une direction\n",
    "    \n",
    "    Retourne :\n",
    "    - matrice du Laplacien 2D sur un carré\n",
    "    \"\"\"\n",
    "    n = N**2\n",
    "    D = np.zeros((n,n))\n",
    "\n",
    "    for i in range(N):\n",
    "        for j in range(N):\n",
    "            D[N*i+j][N*i+j] = 4\n",
    "            if i>0:\n",
    "                D[N*i+j][N*i+j-N] = -1\n",
    "            if i<(N-1):\n",
    "                D[N*i+j][N*i+j+N] = -1\n",
    "            if j>0:\n",
    "                D[N*i+j][N*i+j-1] = -1\n",
    "            if j<(N-1):\n",
    "                D[N*i+j][N*i+j+1] = -1\n",
    "    return D\n",
    "\n",
    "print(\"Laplacien 2D(3) :\\n\", Laplacien_2D_Dirichlet(3))\n"
   ]
  },
  {
   "cell_type": "markdown",
   "metadata": {},
   "source": [
    "2. a) Calculer la 1e valeur propre du Laplacien pour différentes valeurs de $N$. \n",
    "\n",
    "b) Tracer les isocontours de $D$. \n",
    "Le contour de déplacement $D=0$ correspond aux positions qui ne sont pas déplacées par cette oscillation. "
   ]
  },
  {
   "cell_type": "code",
   "execution_count": 66,
   "metadata": {},
   "outputs": [
    {
     "name": "stdout",
     "output_type": "stream",
     "text": [
      "\n",
      "        Pour N=1: 4.0\n",
      "        \n",
      "\n",
      "        Pour N=2: 6.000000000000708\n",
      "        \n",
      "\n",
      "        Pour N=3: 6.828427124746924\n",
      "        \n",
      "\n",
      "        Pour N=4: 7.236067977500636\n",
      "        \n",
      "\n",
      "        Pour N=5: 7.464101615138586\n",
      "        \n"
     ]
    }
   ],
   "source": [
    "# Cas test du Laplacien 2D\n",
    "\n",
    "for N in range(1,6):\n",
    "    A = Laplacien_2D_Dirichlet(N)\n",
    "    eigval, eigvect, error = puissance(A, np.random.rand(N**2), 1000, 1e-12)\n",
    "    print(\n",
    "        f\"\"\"\n",
    "        Pour N={N}: {eigval}\n",
    "        \"\"\"\n",
    "    )\n",
    "\n",
    "# print(lin.eig(Laplacien_2D_Dirichlet(3))[0])"
   ]
  },
  {
   "cell_type": "code",
   "execution_count": 67,
   "metadata": {},
   "outputs": [
    {
     "data": {
      "image/png": "[encoded data removed]",
      "text/plain": [
       "<Figure size 432x288 with 2 Axes>"
      ]
     },
     "metadata": {
      "needs_background": "light"
     },
     "output_type": "display_data"
    }
   ],
   "source": [
    "# courbe de contour de D en 2D\n",
    "\n",
    "im = plt.imshow(Laplacien_2D_Dirichlet(3), cmap=\"copper_r\")\n",
    "plt.colorbar(im)\n",
    "plt.show()"
   ]
  },
  {
   "cell_type": "code",
   "execution_count": 74,
   "metadata": {},
   "outputs": [
    {
     "ename": "TypeError",
     "evalue": "Input z must be 2D, not 0D",
     "output_type": "error",
     "traceback": [
      "\u001b[1;31m---------------------------------------------------------------------------\u001b[0m",
      "\u001b[1;31mTypeError\u001b[0m                                 Traceback (most recent call last)",
      "\u001b[1;32m<ipython-input-74-c4a7679ae4c2>\u001b[0m in \u001b[0;36m<module>\u001b[1;34m\u001b[0m\n\u001b[0;32m      1\u001b[0m \u001b[0meigval3\u001b[0m\u001b[1;33m,\u001b[0m \u001b[0meigvect3\u001b[0m\u001b[1;33m,\u001b[0m \u001b[0merror3\u001b[0m \u001b[1;33m=\u001b[0m \u001b[0mpuissance\u001b[0m\u001b[1;33m(\u001b[0m\u001b[0mLaplacien_2D_Dirichlet\u001b[0m\u001b[1;33m(\u001b[0m\u001b[1;36m3\u001b[0m\u001b[1;33m)\u001b[0m\u001b[1;33m,\u001b[0m \u001b[0mnp\u001b[0m\u001b[1;33m.\u001b[0m\u001b[0mrandom\u001b[0m\u001b[1;33m.\u001b[0m\u001b[0mrand\u001b[0m\u001b[1;33m(\u001b[0m\u001b[1;36m9\u001b[0m\u001b[1;33m)\u001b[0m\u001b[1;33m,\u001b[0m \u001b[1;36m1000\u001b[0m\u001b[1;33m,\u001b[0m \u001b[1;36m1e-12\u001b[0m\u001b[1;33m)\u001b[0m\u001b[1;33m\u001b[0m\u001b[1;33m\u001b[0m\u001b[0m\n\u001b[1;32m----> 2\u001b[1;33m \u001b[0mplt\u001b[0m\u001b[1;33m.\u001b[0m\u001b[0mcontourf\u001b[0m\u001b[1;33m(\u001b[0m\u001b[0mLaplacien_2D_Dirichlet\u001b[0m\u001b[1;33m(\u001b[0m\u001b[1;36m3\u001b[0m\u001b[1;33m)\u001b[0m\u001b[1;33m,\u001b[0m \u001b[0meigvect3\u001b[0m\u001b[1;33m,\u001b[0m \u001b[1;36m20\u001b[0m\u001b[1;33m,\u001b[0m \u001b[0mcmap\u001b[0m\u001b[1;33m=\u001b[0m\u001b[1;34m'RdGy'\u001b[0m\u001b[1;33m)\u001b[0m\u001b[1;33m\u001b[0m\u001b[1;33m\u001b[0m\u001b[0m\n\u001b[0m\u001b[0;32m      3\u001b[0m \u001b[0mplt\u001b[0m\u001b[1;33m.\u001b[0m\u001b[0mcolorbar\u001b[0m\u001b[1;33m(\u001b[0m\u001b[1;33m)\u001b[0m\u001b[1;33m\u001b[0m\u001b[1;33m\u001b[0m\u001b[0m\n\u001b[0;32m      4\u001b[0m \u001b[0mprint\u001b[0m\u001b[1;33m(\u001b[0m\u001b[0meigvect3\u001b[0m\u001b[1;33m)\u001b[0m\u001b[1;33m\u001b[0m\u001b[1;33m\u001b[0m\u001b[0m\n",
      "\u001b[1;32mc:\\Users\\sabri\\anaconda3\\lib\\site-packages\\matplotlib\\pyplot.py\u001b[0m in \u001b[0;36mcontourf\u001b[1;34m(data, *args, **kwargs)\u001b[0m\n\u001b[0;32m   2575\u001b[0m \u001b[1;33m@\u001b[0m\u001b[0m_copy_docstring_and_deprecators\u001b[0m\u001b[1;33m(\u001b[0m\u001b[0mAxes\u001b[0m\u001b[1;33m.\u001b[0m\u001b[0mcontourf\u001b[0m\u001b[1;33m)\u001b[0m\u001b[1;33m\u001b[0m\u001b[1;33m\u001b[0m\u001b[0m\n\u001b[0;32m   2576\u001b[0m \u001b[1;32mdef\u001b[0m \u001b[0mcontourf\u001b[0m\u001b[1;33m(\u001b[0m\u001b[1;33m*\u001b[0m\u001b[0margs\u001b[0m\u001b[1;33m,\u001b[0m \u001b[0mdata\u001b[0m\u001b[1;33m=\u001b[0m\u001b[1;32mNone\u001b[0m\u001b[1;33m,\u001b[0m \u001b[1;33m**\u001b[0m\u001b[0mkwargs\u001b[0m\u001b[1;33m)\u001b[0m\u001b[1;33m:\u001b[0m\u001b[1;33m\u001b[0m\u001b[1;33m\u001b[0m\u001b[0m\n\u001b[1;32m-> 2577\u001b[1;33m     __ret = gca().contourf(\n\u001b[0m\u001b[0;32m   2578\u001b[0m         \u001b[1;33m*\u001b[0m\u001b[0margs\u001b[0m\u001b[1;33m,\u001b[0m \u001b[1;33m**\u001b[0m\u001b[1;33m(\u001b[0m\u001b[1;33m{\u001b[0m\u001b[1;34m\"data\"\u001b[0m\u001b[1;33m:\u001b[0m \u001b[0mdata\u001b[0m\u001b[1;33m}\u001b[0m \u001b[1;32mif\u001b[0m \u001b[0mdata\u001b[0m \u001b[1;32mis\u001b[0m \u001b[1;32mnot\u001b[0m \u001b[1;32mNone\u001b[0m \u001b[1;32melse\u001b[0m \u001b[1;33m{\u001b[0m\u001b[1;33m}\u001b[0m\u001b[1;33m)\u001b[0m\u001b[1;33m,\u001b[0m\u001b[1;33m\u001b[0m\u001b[1;33m\u001b[0m\u001b[0m\n\u001b[0;32m   2579\u001b[0m         **kwargs)\n",
      "\u001b[1;32mc:\\Users\\sabri\\anaconda3\\lib\\site-packages\\matplotlib\\__init__.py\u001b[0m in \u001b[0;36minner\u001b[1;34m(ax, data, *args, **kwargs)\u001b[0m\n\u001b[0;32m   1436\u001b[0m     \u001b[1;32mdef\u001b[0m \u001b[0minner\u001b[0m\u001b[1;33m(\u001b[0m\u001b[0max\u001b[0m\u001b[1;33m,\u001b[0m \u001b[1;33m*\u001b[0m\u001b[0margs\u001b[0m\u001b[1;33m,\u001b[0m \u001b[0mdata\u001b[0m\u001b[1;33m=\u001b[0m\u001b[1;32mNone\u001b[0m\u001b[1;33m,\u001b[0m \u001b[1;33m**\u001b[0m\u001b[0mkwargs\u001b[0m\u001b[1;33m)\u001b[0m\u001b[1;33m:\u001b[0m\u001b[1;33m\u001b[0m\u001b[1;33m\u001b[0m\u001b[0m\n\u001b[0;32m   1437\u001b[0m         \u001b[1;32mif\u001b[0m \u001b[0mdata\u001b[0m \u001b[1;32mis\u001b[0m \u001b[1;32mNone\u001b[0m\u001b[1;33m:\u001b[0m\u001b[1;33m\u001b[0m\u001b[1;33m\u001b[0m\u001b[0m\n\u001b[1;32m-> 1438\u001b[1;33m             \u001b[1;32mreturn\u001b[0m \u001b[0mfunc\u001b[0m\u001b[1;33m(\u001b[0m\u001b[0max\u001b[0m\u001b[1;33m,\u001b[0m \u001b[1;33m*\u001b[0m\u001b[0mmap\u001b[0m\u001b[1;33m(\u001b[0m\u001b[0msanitize_sequence\u001b[0m\u001b[1;33m,\u001b[0m \u001b[0margs\u001b[0m\u001b[1;33m)\u001b[0m\u001b[1;33m,\u001b[0m \u001b[1;33m**\u001b[0m\u001b[0mkwargs\u001b[0m\u001b[1;33m)\u001b[0m\u001b[1;33m\u001b[0m\u001b[1;33m\u001b[0m\u001b[0m\n\u001b[0m\u001b[0;32m   1439\u001b[0m \u001b[1;33m\u001b[0m\u001b[0m\n\u001b[0;32m   1440\u001b[0m         \u001b[0mbound\u001b[0m \u001b[1;33m=\u001b[0m \u001b[0mnew_sig\u001b[0m\u001b[1;33m.\u001b[0m\u001b[0mbind\u001b[0m\u001b[1;33m(\u001b[0m\u001b[0max\u001b[0m\u001b[1;33m,\u001b[0m \u001b[1;33m*\u001b[0m\u001b[0margs\u001b[0m\u001b[1;33m,\u001b[0m \u001b[1;33m**\u001b[0m\u001b[0mkwargs\u001b[0m\u001b[1;33m)\u001b[0m\u001b[1;33m\u001b[0m\u001b[1;33m\u001b[0m\u001b[0m\n",
      "\u001b[1;32mc:\\Users\\sabri\\anaconda3\\lib\\site-packages\\matplotlib\\axes\\_axes.py\u001b[0m in \u001b[0;36mcontourf\u001b[1;34m(self, *args, **kwargs)\u001b[0m\n\u001b[0;32m   6338\u001b[0m     \u001b[1;32mdef\u001b[0m \u001b[0mcontourf\u001b[0m\u001b[1;33m(\u001b[0m\u001b[0mself\u001b[0m\u001b[1;33m,\u001b[0m \u001b[1;33m*\u001b[0m\u001b[0margs\u001b[0m\u001b[1;33m,\u001b[0m \u001b[1;33m**\u001b[0m\u001b[0mkwargs\u001b[0m\u001b[1;33m)\u001b[0m\u001b[1;33m:\u001b[0m\u001b[1;33m\u001b[0m\u001b[1;33m\u001b[0m\u001b[0m\n\u001b[0;32m   6339\u001b[0m         \u001b[0mkwargs\u001b[0m\u001b[1;33m[\u001b[0m\u001b[1;34m'filled'\u001b[0m\u001b[1;33m]\u001b[0m \u001b[1;33m=\u001b[0m \u001b[1;32mTrue\u001b[0m\u001b[1;33m\u001b[0m\u001b[1;33m\u001b[0m\u001b[0m\n\u001b[1;32m-> 6340\u001b[1;33m         \u001b[0mcontours\u001b[0m \u001b[1;33m=\u001b[0m \u001b[0mmcontour\u001b[0m\u001b[1;33m.\u001b[0m\u001b[0mQuadContourSet\u001b[0m\u001b[1;33m(\u001b[0m\u001b[0mself\u001b[0m\u001b[1;33m,\u001b[0m \u001b[1;33m*\u001b[0m\u001b[0margs\u001b[0m\u001b[1;33m,\u001b[0m \u001b[1;33m**\u001b[0m\u001b[0mkwargs\u001b[0m\u001b[1;33m)\u001b[0m\u001b[1;33m\u001b[0m\u001b[1;33m\u001b[0m\u001b[0m\n\u001b[0m\u001b[0;32m   6341\u001b[0m         \u001b[0mself\u001b[0m\u001b[1;33m.\u001b[0m\u001b[0m_request_autoscale_view\u001b[0m\u001b[1;33m(\u001b[0m\u001b[1;33m)\u001b[0m\u001b[1;33m\u001b[0m\u001b[1;33m\u001b[0m\u001b[0m\n\u001b[0;32m   6342\u001b[0m         \u001b[1;32mreturn\u001b[0m \u001b[0mcontours\u001b[0m\u001b[1;33m\u001b[0m\u001b[1;33m\u001b[0m\u001b[0m\n",
      "\u001b[1;32mc:\\Users\\sabri\\anaconda3\\lib\\site-packages\\matplotlib\\contour.py\u001b[0m in \u001b[0;36m__init__\u001b[1;34m(self, ax, levels, filled, linewidths, linestyles, hatches, alpha, origin, extent, cmap, colors, norm, vmin, vmax, extend, antialiased, nchunk, locator, transform, *args, **kwargs)\u001b[0m\n\u001b[0;32m    814\u001b[0m         \u001b[0mself\u001b[0m\u001b[1;33m.\u001b[0m\u001b[0m_transform\u001b[0m \u001b[1;33m=\u001b[0m \u001b[0mtransform\u001b[0m\u001b[1;33m\u001b[0m\u001b[1;33m\u001b[0m\u001b[0m\n\u001b[0;32m    815\u001b[0m \u001b[1;33m\u001b[0m\u001b[0m\n\u001b[1;32m--> 816\u001b[1;33m         \u001b[0mkwargs\u001b[0m \u001b[1;33m=\u001b[0m \u001b[0mself\u001b[0m\u001b[1;33m.\u001b[0m\u001b[0m_process_args\u001b[0m\u001b[1;33m(\u001b[0m\u001b[1;33m*\u001b[0m\u001b[0margs\u001b[0m\u001b[1;33m,\u001b[0m \u001b[1;33m**\u001b[0m\u001b[0mkwargs\u001b[0m\u001b[1;33m)\u001b[0m\u001b[1;33m\u001b[0m\u001b[1;33m\u001b[0m\u001b[0m\n\u001b[0m\u001b[0;32m    817\u001b[0m         \u001b[0mself\u001b[0m\u001b[1;33m.\u001b[0m\u001b[0m_process_levels\u001b[0m\u001b[1;33m(\u001b[0m\u001b[1;33m)\u001b[0m\u001b[1;33m\u001b[0m\u001b[1;33m\u001b[0m\u001b[0m\n\u001b[0;32m    818\u001b[0m \u001b[1;33m\u001b[0m\u001b[0m\n",
      "\u001b[1;32mc:\\Users\\sabri\\anaconda3\\lib\\site-packages\\matplotlib\\contour.py\u001b[0m in \u001b[0;36m_process_args\u001b[1;34m(self, corner_mask, *args, **kwargs)\u001b[0m\n\u001b[0;32m   1428\u001b[0m             \u001b[0mself\u001b[0m\u001b[1;33m.\u001b[0m\u001b[0m_corner_mask\u001b[0m \u001b[1;33m=\u001b[0m \u001b[0mcorner_mask\u001b[0m\u001b[1;33m\u001b[0m\u001b[1;33m\u001b[0m\u001b[0m\n\u001b[0;32m   1429\u001b[0m \u001b[1;33m\u001b[0m\u001b[0m\n\u001b[1;32m-> 1430\u001b[1;33m             \u001b[0mx\u001b[0m\u001b[1;33m,\u001b[0m \u001b[0my\u001b[0m\u001b[1;33m,\u001b[0m \u001b[0mz\u001b[0m \u001b[1;33m=\u001b[0m \u001b[0mself\u001b[0m\u001b[1;33m.\u001b[0m\u001b[0m_contour_args\u001b[0m\u001b[1;33m(\u001b[0m\u001b[0margs\u001b[0m\u001b[1;33m,\u001b[0m \u001b[0mkwargs\u001b[0m\u001b[1;33m)\u001b[0m\u001b[1;33m\u001b[0m\u001b[1;33m\u001b[0m\u001b[0m\n\u001b[0m\u001b[0;32m   1431\u001b[0m \u001b[1;33m\u001b[0m\u001b[0m\n\u001b[0;32m   1432\u001b[0m             \u001b[0m_mask\u001b[0m \u001b[1;33m=\u001b[0m \u001b[0mma\u001b[0m\u001b[1;33m.\u001b[0m\u001b[0mgetmask\u001b[0m\u001b[1;33m(\u001b[0m\u001b[0mz\u001b[0m\u001b[1;33m)\u001b[0m\u001b[1;33m\u001b[0m\u001b[1;33m\u001b[0m\u001b[0m\n",
      "\u001b[1;32mc:\\Users\\sabri\\anaconda3\\lib\\site-packages\\matplotlib\\contour.py\u001b[0m in \u001b[0;36m_contour_args\u001b[1;34m(self, args, kwargs)\u001b[0m\n\u001b[0;32m   1486\u001b[0m             \u001b[0margs\u001b[0m \u001b[1;33m=\u001b[0m \u001b[0margs\u001b[0m\u001b[1;33m[\u001b[0m\u001b[1;36m1\u001b[0m\u001b[1;33m:\u001b[0m\u001b[1;33m]\u001b[0m\u001b[1;33m\u001b[0m\u001b[1;33m\u001b[0m\u001b[0m\n\u001b[0;32m   1487\u001b[0m         \u001b[1;32melif\u001b[0m \u001b[0mNargs\u001b[0m \u001b[1;33m<=\u001b[0m \u001b[1;36m4\u001b[0m\u001b[1;33m:\u001b[0m\u001b[1;33m\u001b[0m\u001b[1;33m\u001b[0m\u001b[0m\n\u001b[1;32m-> 1488\u001b[1;33m             \u001b[0mx\u001b[0m\u001b[1;33m,\u001b[0m \u001b[0my\u001b[0m\u001b[1;33m,\u001b[0m \u001b[0mz\u001b[0m \u001b[1;33m=\u001b[0m \u001b[0mself\u001b[0m\u001b[1;33m.\u001b[0m\u001b[0m_check_xyz\u001b[0m\u001b[1;33m(\u001b[0m\u001b[0margs\u001b[0m\u001b[1;33m[\u001b[0m\u001b[1;33m:\u001b[0m\u001b[1;36m3\u001b[0m\u001b[1;33m]\u001b[0m\u001b[1;33m,\u001b[0m \u001b[0mkwargs\u001b[0m\u001b[1;33m)\u001b[0m\u001b[1;33m\u001b[0m\u001b[1;33m\u001b[0m\u001b[0m\n\u001b[0m\u001b[0;32m   1489\u001b[0m             \u001b[0margs\u001b[0m \u001b[1;33m=\u001b[0m \u001b[0margs\u001b[0m\u001b[1;33m[\u001b[0m\u001b[1;36m3\u001b[0m\u001b[1;33m:\u001b[0m\u001b[1;33m]\u001b[0m\u001b[1;33m\u001b[0m\u001b[1;33m\u001b[0m\u001b[0m\n\u001b[0;32m   1490\u001b[0m         \u001b[1;32melse\u001b[0m\u001b[1;33m:\u001b[0m\u001b[1;33m\u001b[0m\u001b[1;33m\u001b[0m\u001b[0m\n",
      "\u001b[1;32mc:\\Users\\sabri\\anaconda3\\lib\\site-packages\\matplotlib\\contour.py\u001b[0m in \u001b[0;36m_check_xyz\u001b[1;34m(self, args, kwargs)\u001b[0m\n\u001b[0;32m   1517\u001b[0m \u001b[1;33m\u001b[0m\u001b[0m\n\u001b[0;32m   1518\u001b[0m         \u001b[1;32mif\u001b[0m \u001b[0mz\u001b[0m\u001b[1;33m.\u001b[0m\u001b[0mndim\u001b[0m \u001b[1;33m!=\u001b[0m \u001b[1;36m2\u001b[0m\u001b[1;33m:\u001b[0m\u001b[1;33m\u001b[0m\u001b[1;33m\u001b[0m\u001b[0m\n\u001b[1;32m-> 1519\u001b[1;33m             \u001b[1;32mraise\u001b[0m \u001b[0mTypeError\u001b[0m\u001b[1;33m(\u001b[0m\u001b[1;34mf\"Input z must be 2D, not {z.ndim}D\"\u001b[0m\u001b[1;33m)\u001b[0m\u001b[1;33m\u001b[0m\u001b[1;33m\u001b[0m\u001b[0m\n\u001b[0m\u001b[0;32m   1520\u001b[0m         \u001b[1;32mif\u001b[0m \u001b[0mz\u001b[0m\u001b[1;33m.\u001b[0m\u001b[0mshape\u001b[0m\u001b[1;33m[\u001b[0m\u001b[1;36m0\u001b[0m\u001b[1;33m]\u001b[0m \u001b[1;33m<\u001b[0m \u001b[1;36m2\u001b[0m \u001b[1;32mor\u001b[0m \u001b[0mz\u001b[0m\u001b[1;33m.\u001b[0m\u001b[0mshape\u001b[0m\u001b[1;33m[\u001b[0m\u001b[1;36m1\u001b[0m\u001b[1;33m]\u001b[0m \u001b[1;33m<\u001b[0m \u001b[1;36m2\u001b[0m\u001b[1;33m:\u001b[0m\u001b[1;33m\u001b[0m\u001b[1;33m\u001b[0m\u001b[0m\n\u001b[0;32m   1521\u001b[0m             raise TypeError(f\"Input z must be at least a (2, 2) shaped array, \"\n",
      "\u001b[1;31mTypeError\u001b[0m: Input z must be 2D, not 0D"
     ]
    },
    {
     "data": {
      "image/png": "[encoded data removed]",
      "text/plain": [
       "<Figure size 432x288 with 1 Axes>"
      ]
     },
     "metadata": {
      "needs_background": "light"
     },
     "output_type": "display_data"
    }
   ],
   "source": [
    "eigval3, eigvect3, error3 = puissance(Laplacien_2D_Dirichlet(3), np.random.rand(9), 1000, 1e-12)\n",
    "plt.contourf(Laplacien_2D_Dirichlet(3), eigvect3, 20, cmap='RdGy')\n",
    "plt.colorbar()\n",
    "print(eigvect3)"
   ]
  },
  {
   "cell_type": "markdown",
   "metadata": {},
   "source": [
    "# D'autres méthodes de puissance\n",
    "On veut maintenant aller plus loin et calculer d'autres valeurs propres et vecteurs propres. \n",
    "\n",
    "## Méthode de la puissance inverse\n",
    "Soit $\\mu\\in\\mathbb{R}$ une première estimation d'une valeur propre $\\lambda$ de $A$ (qui peut ou non être $\\lambda_1$).\n",
    "\n",
    "1. On suppose que $0 < |\\mu-\\lambda| < |\\mu-\\lambda_i|$ pour toute autre valeur propre $\\lambda_i\\neq \\lambda$. Comment peut on relier la plus grande valeur propre de $(A-\\mu Id)^{-1}$ à $\\lambda$? Comment relier les vecteurs propres associés?\n",
    "---"
   ]
  },
  {
   "cell_type": "markdown",
   "metadata": {},
   "source": [
    "2. Utiliser la méthode de la puissance sur $(A-\\mu Id)^{-1}$ pour calculer $\\lambda$ pour la matrice $L$ avec $N=10$ pour un $\\mu$ choisi. \n",
    "\n",
    "*Indications :* Le calcul de l'inverse $(A-\\mu Id)^{-1}$ est également complexe dans le cas général et nécessite un algorithme en lui même. Ici, on pourra utiliser une décomposition LU. Cette décomposition consiste à décomposer $A=LU$ comme le produit d'une matrice triangulaire inférieur L et une matrice triangulaire supérieur U. Cette décomposition est codée dans la fonction lu_factor de scipy. Une fois cette décomposition obtenue, on peut facilement calculer la solution $b = U^{-1}L^{-1} V$ du problème $AV = b$. Cette solution est le résultat de la fonction LU_solve de scipy."
   ]
  },
  {
   "cell_type": "code",
   "execution_count": null,
   "metadata": {},
   "outputs": [],
   "source": [
    "def puissance_inverse(A, V, mu, N_max, TOL):\n",
    "    \"\"\"\n",
    "    Renvoie une valeur propre approchée de A par la méthode de la puissance inverse\n",
    "    ----------   \n",
    "    Paramètres :\n",
    "    A     : matrice\n",
    "    V     : vecteur initial\n",
    "    mu    : paramètre de la méthode\n",
    "    N_max : nombre maximum d'itérations\n",
    "    TOL   : tolérance pour le critère d'arrêt\n",
    "    \n",
    "    Retourne :\n",
    "    -Valeur propre approchée à la fin des itérations\n",
    "    -Vecteur propre associé\n",
    "    -Vecteur contenant l'erreur à chaque itération pour étudier la convergence\n",
    "    \"\"\" \n",
    "   \n",
    "    return "
   ]
  },
  {
   "cell_type": "code",
   "execution_count": null,
   "metadata": {},
   "outputs": [],
   "source": [
    "# 2.b Proposer un/des cas test (matrice, vecteur initiale...) pour tester votre algorithme\n",
    "\n"
   ]
  },
  {
   "cell_type": "code",
   "execution_count": null,
   "metadata": {},
   "outputs": [],
   "source": [
    "# Cas test Laplacien(10)\n",
    "\n",
    "print(\"Valeur propre :\\n\",          eigval2,  \"\\n\")\n",
    "print(\"Vecteur propre associé :\\n\", eigvect2, \"\\n\")\n",
    "print(\"Erreur finale :\\n\",          erreur2)\n"
   ]
  },
  {
   "cell_type": "markdown",
   "metadata": {},
   "source": [
    "3. Comparer la vitesse de convergence de cet algorithme pour différentes valeurs de $\\mu$ proche de $\\lambda_1$ (tracer le sur un intervale de $\\mu$ adapté). On pourra utiliser la valeur de $\\lambda_1$ trouvée à la section précédente. \n",
    "---"
   ]
  },
  {
   "cell_type": "code",
   "execution_count": null,
   "metadata": {},
   "outputs": [],
   "source": [
    "# calcul d'erreur\n",
    "\n"
   ]
  },
  {
   "cell_type": "markdown",
   "metadata": {},
   "source": [
    "4. a) Utiliser la méthode de la puissance pour calculer d'autres valeurs propres et vecteurs propres du Laplacien 2D. \n",
    "\n",
    "b) Tracer les figures de Chaldni de ces harmoniques. "
   ]
  },
  {
   "cell_type": "code",
   "execution_count": null,
   "metadata": {},
   "outputs": [],
   "source": [
    "# Cas test du Laplacien 2D\n",
    "\n"
   ]
  },
  {
   "cell_type": "code",
   "execution_count": null,
   "metadata": {},
   "outputs": [],
   "source": [
    "# courbe de contour de D en 2D\n",
    "\n"
   ]
  },
  {
   "cell_type": "markdown",
   "metadata": {},
   "source": [
    "## Méthode de déflation\n",
    "\n",
    "1. En supposant que la matrice $A\\in\\mathbb{R}^{N\\times N}$ est symétrique définie positive et que $V\\in\\mathbb{R}^N$ est un de ses vecteurs propres, montrer que la matrix $B_\\lambda := A-\\lambda V V^T$ a les mêmes vecteurs propres que $A$ pour tout $\\lambda \\in\\mathbb{R}$.\n",
    "---"
   ]
  },
  {
   "cell_type": "markdown",
   "metadata": {},
   "source": [
    "2. En exploitant les matrices de la forme $B_{\\lambda}$, proposer une méthode pour obtenir la seconde plus grande valeur propre de $A$ et son vecteur propre associé. Puis toute les valeurs propres.\n",
    "---"
   ]
  },
  {
   "cell_type": "markdown",
   "metadata": {},
   "source": [
    "3. Implémenter cette méthode et la tester avec la matrice du Laplacien $L\\in\\mathbb{R}^{N\\times N}$ pour $N = 50$ avec un critère de tolérance de $10^{-6}$. Puis avec un critère de tolérance de $10^{-12}$."
   ]
  },
  {
   "cell_type": "code",
   "execution_count": null,
   "metadata": {},
   "outputs": [],
   "source": [
    "def deflation(A, V, N_max, TOL):\n",
    "    \"\"\"\n",
    "    Renvoie une valeur propre approchée de A par la méthode de la puissance inverse\n",
    "    ----------   \n",
    "    Paramètres :\n",
    "    A     : matrice\n",
    "    V     : vecteur initial\n",
    "    N_max : nombre maximum d'itérations\n",
    "    TOL   : tolérance pour le critère d'arrêt\n",
    "    \n",
    "    Retourne :\n",
    "    -Vecteur des valeurs propres données par la méthode de déflation\n",
    "    -Matrice composée des vecteurs propres associés\n",
    "    \"\"\" \n",
    "   \n",
    "    return "
   ]
  },
  {
   "cell_type": "code",
   "execution_count": null,
   "metadata": {},
   "outputs": [],
   "source": [
    "# Cas test trivial\n",
    "\n"
   ]
  },
  {
   "cell_type": "code",
   "execution_count": null,
   "metadata": {},
   "outputs": [],
   "source": [
    "#Cas Laplacien(10)\n",
    "\n"
   ]
  },
  {
   "cell_type": "code",
   "execution_count": null,
   "metadata": {},
   "outputs": [],
   "source": [
    "# Calcul d'erreur  \n",
    "\n"
   ]
  },
  {
   "cell_type": "markdown",
   "metadata": {},
   "source": [
    "4. Tester à nouveau avec la matrice du Laplacien 2D. Analyser et interpréter."
   ]
  },
  {
   "cell_type": "code",
   "execution_count": null,
   "metadata": {},
   "outputs": [],
   "source": [
    "#Cas Laplacien_2D(10)\n",
    "\n"
   ]
  },
  {
   "cell_type": "code",
   "execution_count": null,
   "metadata": {},
   "outputs": [],
   "source": [
    "# Calcul d'erreur et courbes isocontour pour chaque harmonique\n",
    "\n"
   ]
  },
  {
   "cell_type": "markdown",
   "metadata": {},
   "source": [
    "# Pour aller plus loin"
   ]
  },
  {
   "cell_type": "markdown",
   "metadata": {},
   "source": [
    "## Autour du Laplacien\n",
    "\n",
    "Tester à nouveau votre algorithme en modifiant le problème à résoudre :\n",
    "- en ajoutant des obstacles (bord à l'intérieur du domaine) dans le domaine\n",
    "- en modifiant la forme du domaine spatial\n",
    "- en modifiant les conditions de bord avec des conditions de type Neumann ou Robin "
   ]
  },
  {
   "cell_type": "markdown",
   "metadata": {},
   "source": [
    "## Autour de la résolution du problème aux valeurs propres\n",
    "\n",
    "Une des principales alternatives à la méthode de la puissances est la méthode QR. Cette méthode est donnée par l'algorithme suivant :\n",
    "1. Initialiser $A^0 = A$\n",
    "2. Itérer jusqu'à convergence :\n",
    "- décomposer la matrice $A^i = Q^iR^i$ comme le produit d'une matrice orthogonal $Q^i$ et d'une matrice triangulaire supérieur $R^i$\n",
    "- calculer $A^{i+1} = R^i Q^i$\n",
    "\n",
    "Pour aller plus loin, vous pouvez \n",
    "- coder cette méthode et comparer ses performances avec la méthode de la puissance (on pourra utiliser la dacomposition *qr* de numpy.linalg).\n",
    "- analyser l'algorithme pour relier sa convergence à celle de la méthode de la puissance"
   ]
  },
  {
   "cell_type": "code",
   "execution_count": null,
   "metadata": {},
   "outputs": [],
   "source": []
  }
 ],
 "metadata": {
  "kernelspec": {
   "display_name": "Python 3",
   "language": "python",
   "name": "python3"
  },
  "language_info": {
   "codemirror_mode": {
    "name": "ipython",
    "version": 3
   },
   "file_extension": ".py",
   "mimetype": "text/x-python",
   "name": "python",
   "nbconvert_exporter": "python",
   "pygments_lexer": "ipython3",
   "version": "3.8.5"
  },
  "toc": {
   "base_numbering": 1,
   "nav_menu": {},
   "number_sections": true,
   "sideBar": true,
   "skip_h1_title": false,
   "title_cell": "Table of Contents",
   "title_sidebar": "Contents",
   "toc_cell": false,
   "toc_position": {
    "height": "calc(100% - 180px)",
    "left": "10px",
    "top": "150px",
    "width": "251.817px"
   },
   "toc_section_display": true,
   "toc_window_display": true
  }
 },
 "nbformat": 4,
 "nbformat_minor": 4
}
